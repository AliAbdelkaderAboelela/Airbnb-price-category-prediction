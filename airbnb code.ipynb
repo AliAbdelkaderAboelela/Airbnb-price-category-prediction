{
  "cells": [
    {
      "attachments": {},
      "cell_type": "markdown",
      "metadata": {},
      "source": [
        "## Data mining questions\n",
        "\n",
        "1- Is fully-connected model a good one for sequential data? Why? How about for image data? Is it good? Why?\n",
        "- no because they cant preserve information from from previous timesteps\n",
        "- not better than the cnn but it can be used with it and we can combine them together (CNN-FCL) and has proven to be very effective for image classification. However, it should be noted that fully-connected models can be prone to overfitting\n",
        "\n",
        "\n",
        "\n",
        "2- What is gradient vanishing and gradient explosion, and how GRU/LSTM tries to mitigate this problem?\n",
        "\n",
        "- These problems arise when gradients become too small or too large during backpropagation, which can lead to slow or unstable learning.\n",
        "- To mitigate these problems, LSTM and GRU networks use a gating mechanism that allows them to selectively remember or forget information from previous time steps.\n",
        "\n",
        "---\n",
        "\n",
        "\n",
        "3- What is multi-objective/multi-task learning? What is multi-modality learning? How do you use them in this assignment?\n",
        "- multi-objective/multi-task learning training of a neural network to perform multiple related tasks simultaneously\n",
        "- Multi-modality learning (MML) refers to the training of a neural network to learn from multiple modalities of data, such as images, speech, text, or other types of input\n",
        "---\n",
        "\n",
        "4- What is the difference among xgboost, lightgbm and catboost\n",
        "\n",
        "- each of these frameworks has its own strengths and weaknesses\n",
        "- Speed : LightGBM and CatBoost are typically faster than XGBoost\n",
        "- Memory usage : LightGBM and CatBoost are designed to use less memory than XGBoost.\n",
        "- Handling categorical features: CatBoost is specifically designed to handle categorical features more effectively than XGBoost or LightGBM\n",
        "- Regularization : LightGBM and CatBoost both offer additional regularization techniques that are not available in XGBoost"
      ]
    },
    {
      "attachments": {},
      "cell_type": "markdown",
      "metadata": {},
      "source": [
        "# problem formulation\n",
        "</br>\n",
        "\n",
        "### problem definition\n",
        "\n",
        "- our problem here is about building a model to classify the price, our inputs here are summary and image (7627) for a training dataset and the output is price(7627).\n",
        "---\n",
        "\n",
        "### Data mining function\n",
        "- text preprocessing -> tokenization and vectorization each text ->training the model -> classification and prediction.\n",
        "\n",
        "---\n",
        "\n",
        "### Challenges\n",
        "\n",
        "- We have a very big data set so maybe will take some time to preprocess it and train it.\n",
        "\n",
        "- imbalanced labels distribution.\n",
        "- The size of training dataset is smaller that test dataset\n",
        "---\n",
        "\n",
        "### Model impact\n",
        "\n",
        "- Predicting the actual price class beginner, plus, premium\n",
        "\n",
        "---\n",
        "\n",
        "### The ideal solution\n",
        "\n",
        "- by only using the text and not using images i got the highest score\n"
      ]
    },
    {
      "attachments": {},
      "cell_type": "markdown",
      "metadata": {},
      "source": [
        "## Experimental protocol\n",
        "\n",
        "### Data preprocessing\n",
        "---\n",
        "- cleaning input data for both training set and test set using stemming \n",
        "- (tried translating but it got lower accuracy)\n",
        "- tokenizing\n",
        "- loading images and resizing it\n",
        "---\n",
        "### Building models\n",
        "\n",
        "- trying different neural network architecture then try to tune hyperparameters of the best one"
      ]
    },
    {
      "cell_type": "code",
      "execution_count": 2,
      "metadata": {
        "colab": {
          "base_uri": "https://localhost:8080/"
        },
        "id": "ASPSnNYZLlTU",
        "outputId": "f5ed7799-d88c-4eda-e4a2-a55def8db150"
      },
      "outputs": [
        {
          "name": "stdout",
          "output_type": "stream",
          "text": [
            "kaggle.json\n"
          ]
        }
      ],
      "source": [
        "!pip install -q kaggle\n",
        "!mkdir -p ~/.kaggle\n",
        "!cp kaggle.json ~/.kaggle/\n",
        "!ls ~/.kaggle\n",
        "!chmod 600 /root/.kaggle/kaggle.json  # set permissionn\n"
      ]
    },
    {
      "cell_type": "code",
      "execution_count": 38,
      "metadata": {
        "colab": {
          "base_uri": "https://localhost:8080/"
        },
        "id": "ce79GUwnLmu4",
        "outputId": "bc3b47c3-4549-4d7b-d6fa-a21e193086e6"
      },
      "outputs": [
        {
          "name": "stdout",
          "output_type": "stream",
          "text": [
            "Looking in indexes: https://pypi.org/simple, https://us-python.pkg.dev/colab-wheels/public/simple/\n",
            "Collecting pipeline\n",
            "  Downloading pipeline-0.1.0-py3-none-any.whl (2.6 kB)\n",
            "Installing collected packages: pipeline\n",
            "Successfully installed pipeline-0.1.0\n"
          ]
        }
      ],
      "source": [
        "#! kaggle competitions download copy-of-cisc-873-dm-w23-a4\n",
        "#! unzip copy-of-cisc-873-dm-w23-a4.\n",
        "#!pip install git+https://github.com/neuml/txtai\n",
        "#!pip install sacremoses\n",
        "!pip install pipeline"
      ]
    },
    {
      "cell_type": "code",
      "execution_count": 2,
      "metadata": {
        "colab": {
          "base_uri": "https://localhost:8080/"
        },
        "id": "lvdE0-0KM23A",
        "outputId": "343f9909-bec2-4a57-ca80-6244c155eaa1"
      },
      "outputs": [
        {
          "name": "stdout",
          "output_type": "stream",
          "text": [
            "Looking in indexes: https://pypi.org/simple, https://us-python.pkg.dev/colab-wheels/public/simple/\n",
            "Collecting mtranslate\n",
            "  Downloading mtranslate-1.8.tar.gz (2.4 kB)\n",
            "  Preparing metadata (setup.py) ... \u001b[?25l\u001b[?25hdone\n",
            "Building wheels for collected packages: mtranslate\n",
            "  Building wheel for mtranslate (setup.py) ... \u001b[?25l\u001b[?25hdone\n",
            "  Created wheel for mtranslate: filename=mtranslate-1.8-py3-none-any.whl size=3697 sha256=de61e0c83866744448efb81478ae3c23a93c5c936aec6ce332ccbc69e3469288\n",
            "  Stored in directory: /root/.cache/pip/wheels/a2/20/13/93c62f314d4a29db25b1b24b2c38f79eb1beb558c727b894a3\n",
            "Successfully built mtranslate\n",
            "Installing collected packages: mtranslate\n",
            "Successfully installed mtranslate-1.8\n"
          ]
        }
      ],
      "source": [
        "!pip install mtranslate"
      ]
    },
    {
      "cell_type": "code",
      "execution_count": 47,
      "metadata": {
        "id": "mVtdFG3rOGFm"
      },
      "outputs": [],
      "source": [
        "import os\n",
        "import pathlib\n",
        "import numpy as np\n",
        "import pandas as pd\n",
        "import matplotlib.pyplot as plt\n",
        "import tensorflow as tf\n",
        "import seaborn as sns\n",
        "from tensorflow import keras\n",
        "from tensorflow.keras.layers import Conv2D, Flatten, Conv1D,GlobalMaxPooling1D, Dense, MaxPool2D, LSTM, Dropout, Bidirectional, GRU, MultiHeadAttention\n",
        "from tensorflow.keras.optimizers import Adam, Nadam\n",
        "from keras.models import Model\n",
        "from tensorflow.keras.preprocessing.text import Tokenizer\n",
        "from tensorflow.keras.preprocessing.sequence import pad_sequences\n",
        "from sklearn.model_selection import train_test_split\n",
        "from nltk.stem.snowball import SnowballStemmer\n",
        "from tensorflow.keras import regularizers\n",
        "import nltk \n",
        "import re\n",
        "from nltk.stem import WordNetLemmatizer\n",
        "from nltk.tokenize import word_tokenize\n",
        "from nltk.corpus import stopwords\n",
        "from PIL import Image\n",
        "from keras.callbacks import ReduceLROnPlateau\n",
        "from tqdm.notebook import tqdm\n",
        "from mtranslate import translate"
      ]
    },
    {
      "cell_type": "code",
      "execution_count": 7,
      "metadata": {
        "id": "fjxRpcN-O5Ry"
      },
      "outputs": [],
      "source": [
        "# Reading training and testing Data from kaggle\n",
        "df_train = pd.read_csv('a4/train_xy.csv')\n",
        "df_test = pd.read_csv('a4/test_x.csv')"
      ]
    },
    {
      "cell_type": "markdown",
      "metadata": {
        "id": "cThaE9DoQjVO"
      },
      "source": [
        "# Data Exploration"
      ]
    },
    {
      "cell_type": "code",
      "execution_count": 8,
      "metadata": {
        "colab": {
          "base_uri": "https://localhost:8080/",
          "height": 206
        },
        "id": "DxtPRJmgPMfz",
        "outputId": "14dca17f-e2b7-4552-ea1d-71bdd5009203"
      },
      "outputs": [
        {
          "data": {
            "text/html": [
              "\n",
              "  <div id=\"df-b077fa1e-ccc8-40e2-85e0-72af858d5e31\">\n",
              "    <div class=\"colab-df-container\">\n",
              "      <div>\n",
              "<style scoped>\n",
              "    .dataframe tbody tr th:only-of-type {\n",
              "        vertical-align: middle;\n",
              "    }\n",
              "\n",
              "    .dataframe tbody tr th {\n",
              "        vertical-align: top;\n",
              "    }\n",
              "\n",
              "    .dataframe thead th {\n",
              "        text-align: right;\n",
              "    }\n",
              "</style>\n",
              "<table border=\"1\" class=\"dataframe\">\n",
              "  <thead>\n",
              "    <tr style=\"text-align: right;\">\n",
              "      <th></th>\n",
              "      <th>summary</th>\n",
              "      <th>image</th>\n",
              "      <th>type</th>\n",
              "      <th>price</th>\n",
              "    </tr>\n",
              "  </thead>\n",
              "  <tbody>\n",
              "    <tr>\n",
              "      <th>0</th>\n",
              "      <td>Spacious, sunny and cozy modern apartment in t...</td>\n",
              "      <td>img_train/0.jpg</td>\n",
              "      <td>Apartment</td>\n",
              "      <td>1</td>\n",
              "    </tr>\n",
              "    <tr>\n",
              "      <th>1</th>\n",
              "      <td>Located in one of the most vibrant and accessi...</td>\n",
              "      <td>img_train/1.jpg</td>\n",
              "      <td>Apartment</td>\n",
              "      <td>0</td>\n",
              "    </tr>\n",
              "    <tr>\n",
              "      <th>2</th>\n",
              "      <td>Logement coquet et douillet à 10 minutes du ce...</td>\n",
              "      <td>img_train/2.jpg</td>\n",
              "      <td>Apartment</td>\n",
              "      <td>1</td>\n",
              "    </tr>\n",
              "    <tr>\n",
              "      <th>3</th>\n",
              "      <td>Beautiful and spacious (1076 sc ft, / 100 mc) ...</td>\n",
              "      <td>img_train/3.jpg</td>\n",
              "      <td>Apartment</td>\n",
              "      <td>1</td>\n",
              "    </tr>\n",
              "    <tr>\n",
              "      <th>4</th>\n",
              "      <td>Très grand appartement ''rustique'' et très ag...</td>\n",
              "      <td>img_train/4.jpg</td>\n",
              "      <td>Apartment</td>\n",
              "      <td>0</td>\n",
              "    </tr>\n",
              "  </tbody>\n",
              "</table>\n",
              "</div>\n",
              "      <button class=\"colab-df-convert\" onclick=\"convertToInteractive('df-b077fa1e-ccc8-40e2-85e0-72af858d5e31')\"\n",
              "              title=\"Convert this dataframe to an interactive table.\"\n",
              "              style=\"display:none;\">\n",
              "        \n",
              "  <svg xmlns=\"http://www.w3.org/2000/svg\" height=\"24px\"viewBox=\"0 0 24 24\"\n",
              "       width=\"24px\">\n",
              "    <path d=\"M0 0h24v24H0V0z\" fill=\"none\"/>\n",
              "    <path d=\"M18.56 5.44l.94 2.06.94-2.06 2.06-.94-2.06-.94-.94-2.06-.94 2.06-2.06.94zm-11 1L8.5 8.5l.94-2.06 2.06-.94-2.06-.94L8.5 2.5l-.94 2.06-2.06.94zm10 10l.94 2.06.94-2.06 2.06-.94-2.06-.94-.94-2.06-.94 2.06-2.06.94z\"/><path d=\"M17.41 7.96l-1.37-1.37c-.4-.4-.92-.59-1.43-.59-.52 0-1.04.2-1.43.59L10.3 9.45l-7.72 7.72c-.78.78-.78 2.05 0 2.83L4 21.41c.39.39.9.59 1.41.59.51 0 1.02-.2 1.41-.59l7.78-7.78 2.81-2.81c.8-.78.8-2.07 0-2.86zM5.41 20L4 18.59l7.72-7.72 1.47 1.35L5.41 20z\"/>\n",
              "  </svg>\n",
              "      </button>\n",
              "      \n",
              "  <style>\n",
              "    .colab-df-container {\n",
              "      display:flex;\n",
              "      flex-wrap:wrap;\n",
              "      gap: 12px;\n",
              "    }\n",
              "\n",
              "    .colab-df-convert {\n",
              "      background-color: #E8F0FE;\n",
              "      border: none;\n",
              "      border-radius: 50%;\n",
              "      cursor: pointer;\n",
              "      display: none;\n",
              "      fill: #1967D2;\n",
              "      height: 32px;\n",
              "      padding: 0 0 0 0;\n",
              "      width: 32px;\n",
              "    }\n",
              "\n",
              "    .colab-df-convert:hover {\n",
              "      background-color: #E2EBFA;\n",
              "      box-shadow: 0px 1px 2px rgba(60, 64, 67, 0.3), 0px 1px 3px 1px rgba(60, 64, 67, 0.15);\n",
              "      fill: #174EA6;\n",
              "    }\n",
              "\n",
              "    [theme=dark] .colab-df-convert {\n",
              "      background-color: #3B4455;\n",
              "      fill: #D2E3FC;\n",
              "    }\n",
              "\n",
              "    [theme=dark] .colab-df-convert:hover {\n",
              "      background-color: #434B5C;\n",
              "      box-shadow: 0px 1px 3px 1px rgba(0, 0, 0, 0.15);\n",
              "      filter: drop-shadow(0px 1px 2px rgba(0, 0, 0, 0.3));\n",
              "      fill: #FFFFFF;\n",
              "    }\n",
              "  </style>\n",
              "\n",
              "      <script>\n",
              "        const buttonEl =\n",
              "          document.querySelector('#df-b077fa1e-ccc8-40e2-85e0-72af858d5e31 button.colab-df-convert');\n",
              "        buttonEl.style.display =\n",
              "          google.colab.kernel.accessAllowed ? 'block' : 'none';\n",
              "\n",
              "        async function convertToInteractive(key) {\n",
              "          const element = document.querySelector('#df-b077fa1e-ccc8-40e2-85e0-72af858d5e31');\n",
              "          const dataTable =\n",
              "            await google.colab.kernel.invokeFunction('convertToInteractive',\n",
              "                                                     [key], {});\n",
              "          if (!dataTable) return;\n",
              "\n",
              "          const docLinkHtml = 'Like what you see? Visit the ' +\n",
              "            '<a target=\"_blank\" href=https://colab.research.google.com/notebooks/data_table.ipynb>data table notebook</a>'\n",
              "            + ' to learn more about interactive tables.';\n",
              "          element.innerHTML = '';\n",
              "          dataTable['output_type'] = 'display_data';\n",
              "          await google.colab.output.renderOutput(dataTable, element);\n",
              "          const docLink = document.createElement('div');\n",
              "          docLink.innerHTML = docLinkHtml;\n",
              "          element.appendChild(docLink);\n",
              "        }\n",
              "      </script>\n",
              "    </div>\n",
              "  </div>\n",
              "  "
            ],
            "text/plain": [
              "                                             summary            image  \\\n",
              "0  Spacious, sunny and cozy modern apartment in t...  img_train/0.jpg   \n",
              "1  Located in one of the most vibrant and accessi...  img_train/1.jpg   \n",
              "2  Logement coquet et douillet à 10 minutes du ce...  img_train/2.jpg   \n",
              "3  Beautiful and spacious (1076 sc ft, / 100 mc) ...  img_train/3.jpg   \n",
              "4  Très grand appartement ''rustique'' et très ag...  img_train/4.jpg   \n",
              "\n",
              "        type  price  \n",
              "0  Apartment      1  \n",
              "1  Apartment      0  \n",
              "2  Apartment      1  \n",
              "3  Apartment      1  \n",
              "4  Apartment      0  "
            ]
          },
          "execution_count": 8,
          "metadata": {},
          "output_type": "execute_result"
        }
      ],
      "source": [
        "#taking a first look at our data\n",
        "df_train.head()"
      ]
    },
    {
      "cell_type": "markdown",
      "metadata": {
        "id": "Vq1hemVxPTI9"
      },
      "source": [
        "we can see in the summary column that there values with different languages like french, therefore we will have to translate them to english in the preprocessing phase"
      ]
    },
    {
      "cell_type": "code",
      "execution_count": 9,
      "metadata": {
        "colab": {
          "base_uri": "https://localhost:8080/",
          "height": 300
        },
        "id": "LutCvEmsPRbo",
        "outputId": "e0754c09-4f9f-44bc-b7f5-8db89b2c553e"
      },
      "outputs": [
        {
          "data": {
            "text/html": [
              "\n",
              "  <div id=\"df-5ac03212-63aa-49b9-9797-9395305a7a9a\">\n",
              "    <div class=\"colab-df-container\">\n",
              "      <div>\n",
              "<style scoped>\n",
              "    .dataframe tbody tr th:only-of-type {\n",
              "        vertical-align: middle;\n",
              "    }\n",
              "\n",
              "    .dataframe tbody tr th {\n",
              "        vertical-align: top;\n",
              "    }\n",
              "\n",
              "    .dataframe thead th {\n",
              "        text-align: right;\n",
              "    }\n",
              "</style>\n",
              "<table border=\"1\" class=\"dataframe\">\n",
              "  <thead>\n",
              "    <tr style=\"text-align: right;\">\n",
              "      <th></th>\n",
              "      <th>price</th>\n",
              "    </tr>\n",
              "  </thead>\n",
              "  <tbody>\n",
              "    <tr>\n",
              "      <th>count</th>\n",
              "      <td>7627.000000</td>\n",
              "    </tr>\n",
              "    <tr>\n",
              "      <th>mean</th>\n",
              "      <td>0.442769</td>\n",
              "    </tr>\n",
              "    <tr>\n",
              "      <th>std</th>\n",
              "      <td>0.611946</td>\n",
              "    </tr>\n",
              "    <tr>\n",
              "      <th>min</th>\n",
              "      <td>0.000000</td>\n",
              "    </tr>\n",
              "    <tr>\n",
              "      <th>25%</th>\n",
              "      <td>0.000000</td>\n",
              "    </tr>\n",
              "    <tr>\n",
              "      <th>50%</th>\n",
              "      <td>0.000000</td>\n",
              "    </tr>\n",
              "    <tr>\n",
              "      <th>75%</th>\n",
              "      <td>1.000000</td>\n",
              "    </tr>\n",
              "    <tr>\n",
              "      <th>max</th>\n",
              "      <td>2.000000</td>\n",
              "    </tr>\n",
              "  </tbody>\n",
              "</table>\n",
              "</div>\n",
              "      <button class=\"colab-df-convert\" onclick=\"convertToInteractive('df-5ac03212-63aa-49b9-9797-9395305a7a9a')\"\n",
              "              title=\"Convert this dataframe to an interactive table.\"\n",
              "              style=\"display:none;\">\n",
              "        \n",
              "  <svg xmlns=\"http://www.w3.org/2000/svg\" height=\"24px\"viewBox=\"0 0 24 24\"\n",
              "       width=\"24px\">\n",
              "    <path d=\"M0 0h24v24H0V0z\" fill=\"none\"/>\n",
              "    <path d=\"M18.56 5.44l.94 2.06.94-2.06 2.06-.94-2.06-.94-.94-2.06-.94 2.06-2.06.94zm-11 1L8.5 8.5l.94-2.06 2.06-.94-2.06-.94L8.5 2.5l-.94 2.06-2.06.94zm10 10l.94 2.06.94-2.06 2.06-.94-2.06-.94-.94-2.06-.94 2.06-2.06.94z\"/><path d=\"M17.41 7.96l-1.37-1.37c-.4-.4-.92-.59-1.43-.59-.52 0-1.04.2-1.43.59L10.3 9.45l-7.72 7.72c-.78.78-.78 2.05 0 2.83L4 21.41c.39.39.9.59 1.41.59.51 0 1.02-.2 1.41-.59l7.78-7.78 2.81-2.81c.8-.78.8-2.07 0-2.86zM5.41 20L4 18.59l7.72-7.72 1.47 1.35L5.41 20z\"/>\n",
              "  </svg>\n",
              "      </button>\n",
              "      \n",
              "  <style>\n",
              "    .colab-df-container {\n",
              "      display:flex;\n",
              "      flex-wrap:wrap;\n",
              "      gap: 12px;\n",
              "    }\n",
              "\n",
              "    .colab-df-convert {\n",
              "      background-color: #E8F0FE;\n",
              "      border: none;\n",
              "      border-radius: 50%;\n",
              "      cursor: pointer;\n",
              "      display: none;\n",
              "      fill: #1967D2;\n",
              "      height: 32px;\n",
              "      padding: 0 0 0 0;\n",
              "      width: 32px;\n",
              "    }\n",
              "\n",
              "    .colab-df-convert:hover {\n",
              "      background-color: #E2EBFA;\n",
              "      box-shadow: 0px 1px 2px rgba(60, 64, 67, 0.3), 0px 1px 3px 1px rgba(60, 64, 67, 0.15);\n",
              "      fill: #174EA6;\n",
              "    }\n",
              "\n",
              "    [theme=dark] .colab-df-convert {\n",
              "      background-color: #3B4455;\n",
              "      fill: #D2E3FC;\n",
              "    }\n",
              "\n",
              "    [theme=dark] .colab-df-convert:hover {\n",
              "      background-color: #434B5C;\n",
              "      box-shadow: 0px 1px 3px 1px rgba(0, 0, 0, 0.15);\n",
              "      filter: drop-shadow(0px 1px 2px rgba(0, 0, 0, 0.3));\n",
              "      fill: #FFFFFF;\n",
              "    }\n",
              "  </style>\n",
              "\n",
              "      <script>\n",
              "        const buttonEl =\n",
              "          document.querySelector('#df-5ac03212-63aa-49b9-9797-9395305a7a9a button.colab-df-convert');\n",
              "        buttonEl.style.display =\n",
              "          google.colab.kernel.accessAllowed ? 'block' : 'none';\n",
              "\n",
              "        async function convertToInteractive(key) {\n",
              "          const element = document.querySelector('#df-5ac03212-63aa-49b9-9797-9395305a7a9a');\n",
              "          const dataTable =\n",
              "            await google.colab.kernel.invokeFunction('convertToInteractive',\n",
              "                                                     [key], {});\n",
              "          if (!dataTable) return;\n",
              "\n",
              "          const docLinkHtml = 'Like what you see? Visit the ' +\n",
              "            '<a target=\"_blank\" href=https://colab.research.google.com/notebooks/data_table.ipynb>data table notebook</a>'\n",
              "            + ' to learn more about interactive tables.';\n",
              "          element.innerHTML = '';\n",
              "          dataTable['output_type'] = 'display_data';\n",
              "          await google.colab.output.renderOutput(dataTable, element);\n",
              "          const docLink = document.createElement('div');\n",
              "          docLink.innerHTML = docLinkHtml;\n",
              "          element.appendChild(docLink);\n",
              "        }\n",
              "      </script>\n",
              "    </div>\n",
              "  </div>\n",
              "  "
            ],
            "text/plain": [
              "             price\n",
              "count  7627.000000\n",
              "mean      0.442769\n",
              "std       0.611946\n",
              "min       0.000000\n",
              "25%       0.000000\n",
              "50%       0.000000\n",
              "75%       1.000000\n",
              "max       2.000000"
            ]
          },
          "execution_count": 9,
          "metadata": {},
          "output_type": "execute_result"
        }
      ],
      "source": [
        "#describing the data\n",
        "df_train.describe()"
      ]
    },
    {
      "cell_type": "code",
      "execution_count": 11,
      "metadata": {
        "colab": {
          "base_uri": "https://localhost:8080/"
        },
        "id": "D0_CFtrnQF8_",
        "outputId": "073e44dc-6b10-4eac-913e-e49026e71b5d"
      },
      "outputs": [
        {
          "name": "stdout",
          "output_type": "stream",
          "text": [
            "<class 'pandas.core.frame.DataFrame'>\n",
            "RangeIndex: 7627 entries, 0 to 7626\n",
            "Data columns (total 4 columns):\n",
            " #   Column   Non-Null Count  Dtype \n",
            "---  ------   --------------  ----- \n",
            " 0   summary  7326 non-null   object\n",
            " 1   image    7627 non-null   object\n",
            " 2   type     7627 non-null   object\n",
            " 3   price    7627 non-null   int64 \n",
            "dtypes: int64(1), object(3)\n",
            "memory usage: 238.5+ KB\n"
          ]
        }
      ],
      "source": [
        "df_train.info()"
      ]
    },
    {
      "cell_type": "code",
      "execution_count": 12,
      "metadata": {
        "colab": {
          "base_uri": "https://localhost:8080/"
        },
        "id": "JLMvSTgFQMxW",
        "outputId": "c6db3985-6373-4003-a797-946a7646bbce"
      },
      "outputs": [
        {
          "data": {
            "text/plain": [
              "0    4737\n",
              "1    2403\n",
              "2     487\n",
              "Name: price, dtype: int64"
            ]
          },
          "execution_count": 12,
          "metadata": {},
          "output_type": "execute_result"
        }
      ],
      "source": [
        "df_train['price'].value_counts()"
      ]
    },
    {
      "cell_type": "markdown",
      "metadata": {
        "id": "9e0J41ClQ_Oo"
      },
      "source": [
        "price column has only 3 unique values which mean we can label it as  a categorical column if we need to"
      ]
    },
    {
      "cell_type": "code",
      "execution_count": 14,
      "metadata": {
        "colab": {
          "base_uri": "https://localhost:8080/",
          "height": 466
        },
        "id": "cPv8P8N5Q1a2",
        "outputId": "ea5d562f-74ce-4949-b7ac-35ddeff82b4e"
      },
      "outputs": [
        {
          "data": {
            "text/plain": [
              "<Axes: xlabel='count', ylabel='price'>"
            ]
          },
          "execution_count": 14,
          "metadata": {},
          "output_type": "execute_result"
        },
        {
          "data": {
            "image/png": "[encoded data removed]",
            "text/plain": [
              "<Figure size 640x480 with 1 Axes>"
            ]
          },
          "metadata": {},
          "output_type": "display_data"
        }
      ],
      "source": [
        "sns.countplot(y=\"price\", data = df_train)"
      ]
    },
    {
      "cell_type": "code",
      "execution_count": 21,
      "metadata": {
        "colab": {
          "base_uri": "https://localhost:8080/"
        },
        "id": "QaSvuRhfULH2",
        "outputId": "4e035331-01e3-41f3-a38d-b4f70d1c80d9"
      },
      "outputs": [
        {
          "name": "stdout",
          "output_type": "stream",
          "text": [
            "Training Data Shape:  (7627, 4)\n",
            "Testing Data Shape:  (7360, 3)\n"
          ]
        }
      ],
      "source": [
        "print(\"Training Data Shape: \", df_train.shape)\n",
        "print(\"Testing Data Shape: \", df_test.shape)"
      ]
    },
    {
      "cell_type": "markdown",
      "metadata": {
        "id": "Hs6ZGXlfRwCe"
      },
      "source": [
        "# Data Cleaning"
      ]
    },
    {
      "cell_type": "code",
      "execution_count": 20,
      "metadata": {
        "colab": {
          "base_uri": "https://localhost:8080/"
        },
        "id": "MtVCCvBORgSZ",
        "outputId": "87025982-894a-4970-83fc-2df4a18e4042"
      },
      "outputs": [
        {
          "name": "stdout",
          "output_type": "stream",
          "text": [
            "Training Data missing values:  summary    301\n",
            "image        0\n",
            "type         0\n",
            "price        0\n",
            "dtype: int64\n",
            "Testing Data missing values:  id         0\n",
            "summary    0\n",
            "image      0\n",
            "dtype: int64\n"
          ]
        }
      ],
      "source": [
        "#check for missing values for training and testing data\n",
        "print(\"Training Data missing values: \",df_train.isnull().sum())\n",
        "print(\"Testing Data missing values: \",df_test.isnull().sum())"
      ]
    },
    {
      "cell_type": "markdown",
      "metadata": {
        "id": "iY2dvC6_TxKS"
      },
      "source": [
        "looks like we have a small number of missing values in the training data "
      ]
    },
    {
      "cell_type": "code",
      "execution_count": 18,
      "metadata": {
        "colab": {
          "base_uri": "https://localhost:8080/"
        },
        "id": "bNdP_EdnR2_Z",
        "outputId": "72e63670-7a89-45fe-b71b-7427f1216135"
      },
      "outputs": [
        {
          "data": {
            "text/plain": [
              "id         0\n",
              "summary    0\n",
              "image      0\n",
              "dtype: int64"
            ]
          },
          "execution_count": 18,
          "metadata": {},
          "output_type": "execute_result"
        }
      ],
      "source": [
        "#dropping missing values\n",
        "df_train.dropna(inplace=True)"
      ]
    },
    {
      "cell_type": "code",
      "execution_count": 22,
      "metadata": {
        "colab": {
          "base_uri": "https://localhost:8080/"
        },
        "id": "wHTU_xYuR-NO",
        "outputId": "8ca2ed65-46ee-4b3f-b2ef-381213c907be"
      },
      "outputs": [
        {
          "name": "stdout",
          "output_type": "stream",
          "text": [
            "Training Data duplicates:  0\n",
            "Testing Data duplicates:  0\n"
          ]
        }
      ],
      "source": [
        "#check for duplicates for training and testing data\n",
        "print(\"Training Data duplicates: \",df_train.duplicated().sum())\n",
        "print(\"Testing Data duplicates: \",df_test.duplicated().sum())"
      ]
    },
    {
      "cell_type": "markdown",
      "metadata": {
        "id": "WJVAL02SYd4x"
      },
      "source": [
        "#Preprocessing\n",
        "###1- translation\n",
        "for translation i used mtranslate which is faster than google translate and has unlimited access"
      ]
    },
    {
      "cell_type": "code",
      "execution_count": 5,
      "metadata": {
        "id": "wip38Ls-U1Oa"
      },
      "outputs": [],
      "source": [
        "#translate the summary column for both datasets\n",
        "# for i in tqdm(range(len(df_train))):\n",
        "#     df_train.at[i,'summary'] = translate(str(df_train.at[i,'summary']) ,'en')\n",
        "    \n",
        "# print(\"Done train_df..\\n\")\n",
        "    \n",
        "\n",
        "# for i in tqdm(range(len(df_test))):\n",
        "#    df_test.at[i,'summary'] = translate(df_test.at[i,'summary'] ,'en')\n",
        "# print(\"Done test_df..\\n\")\n",
        "\n",
        "\n",
        "# df_train.to_csv('df_train_translated.csv', index=False)\n",
        "# df_test.to_csv('df_test_translated.csv', index=False)\n",
        "\n",
        "df_train = pd.read_csv(\"df_train_translated.csv\")\n",
        "df_test = pd.read_csv(\"df_test_translated.csv\")"
      ]
    },
    {
      "cell_type": "markdown",
      "metadata": {
        "id": "sdtSEm0XisZh"
      },
      "source": [
        "i saved the translated files so we don't have to translate again"
      ]
    },
    {
      "cell_type": "markdown",
      "metadata": {
        "id": "Zsuox4dmj15a"
      },
      "source": [
        "###2- text cleaning\n",
        "i used the same preprocessing helper function from the past competition for the summary text column"
      ]
    },
    {
      "cell_type": "code",
      "execution_count": 6,
      "metadata": {
        "colab": {
          "base_uri": "https://localhost:8080/"
        },
        "id": "p1LsdSWKbC_E",
        "outputId": "73556d66-aeca-4b0d-db8a-5b29b5fd0605"
      },
      "outputs": [
        {
          "name": "stderr",
          "output_type": "stream",
          "text": [
            "[nltk_data] Downloading package punkt to /root/nltk_data...\n",
            "[nltk_data]   Unzipping tokenizers/punkt.zip.\n",
            "[nltk_data] Downloading package stopwords to /root/nltk_data...\n",
            "[nltk_data]   Unzipping corpora/stopwords.zip.\n"
          ]
        }
      ],
      "source": [
        "nltk.download('punkt') # punkt is a tokenizer uses an unsupervised algorithm to divide a text into a list of sentences.\n",
        "nltk.download('stopwords') # download english stopwords\n",
        "\n",
        "stemmer = SnowballStemmer(\"english\")   # It is the method used to return the word to its original form\n",
        "stop_words = set(stopwords.words(\"english\")) # It is the method of producing a stop words\n",
        "\n",
        "def clean_text(text):\n",
        "\n",
        "    # IGNORECASE : is a flag allows for case-insensitive matching of the Regular Expression with the given string\n",
        "    RE_WSPACE = re.compile(r\"\\s+\", re.IGNORECASE) # Remove any more than one space\n",
        "    RE_TAGS = re.compile(r\"<[^>]+>\") # Remove web tags\n",
        "    RE_ASCII = re.compile(r\"[^A-Za-zÀ-ž ]\", re.IGNORECASE) # Remove any leter does not english charachter\n",
        "    RE_SINGLECHAR = re.compile(r\"\\b[A-Za-zÀ-ž]\\b\", re.IGNORECASE) # Remove any single character\n",
        "\n",
        "    text = re.sub(RE_TAGS, \" \", text)# Replace any tag with a single space.\n",
        "    text = re.sub(RE_ASCII, \" \", text) # Replace any non english character with a single space.\n",
        "    text = re.sub(RE_SINGLECHAR, \" \", text) # Replace any single character with a single space.\n",
        "    text = re.sub(RE_WSPACE, \" \", text)  # Replace any more than one space with a single space.\n",
        "\n",
        "    word_tokens = word_tokenize(text) # split the sentence into words\n",
        "    words_tokens_lower = [word.lower() for word in word_tokens] # Convert all letters to small letters\n",
        "\n",
        "    # words_filtered (Words can be filtered based on how many times they appear)\n",
        "    # stemmer used to return the word to its original form.\n",
        "    words_filtered = [\n",
        "        stemmer.stem(word) for word in words_tokens_lower if word not in stop_words\n",
        "    ]\n",
        "\n",
        "    # Join all words in text_clean and separate them by space.\n",
        "    text_clean = \" \".join(words_filtered)\n",
        "    return text_clean"
      ]
    },
    {
      "cell_type": "markdown",
      "metadata": {
        "id": "MdGb7bIzkc4g"
      },
      "source": [
        "Call function to clean text"
      ]
    },
    {
      "cell_type": "code",
      "execution_count": 7,
      "metadata": {
        "id": "xrfS6zm-jd99"
      },
      "outputs": [],
      "source": [
        "df_train[\"summary\"] = df_train[\"summary\"].map(lambda x: clean_text(x) if isinstance(x, str) else x).copy() ## clean and lemmatiz training set\n",
        "df_test[\"summary\"] = df_test[\"summary\"].map(lambda x: clean_text(x) if isinstance(x, str) else x).copy() ## word cleaning and lemmatizing test set"
      ]
    },
    {
      "cell_type": "markdown",
      "metadata": {
        "id": "wPpUlf-nles2"
      },
      "source": [
        "### 3- Image Loading"
      ]
    },
    {
      "cell_type": "code",
      "execution_count": 8,
      "metadata": {
        "id": "ngXUW8DNlk5N"
      },
      "outputs": [],
      "source": [
        "#Helper function to load images\n",
        "def load_image(file):\n",
        "    try:\n",
        "        image = Image.open(\n",
        "            file\n",
        "        ).convert('LA').resize((64, 64)) # read each image as a greyscale image size (64x64x2)\n",
        "        arr = np.array(image)\n",
        "    except:\n",
        "        arr = np.zeros((64, 64,2))       # if an image can't be loaded, return an array of zeros (same size: 64x64x2)\n",
        "    return arr"
      ]
    },
    {
      "cell_type": "code",
      "execution_count": 9,
      "metadata": {
        "colab": {
          "base_uri": "https://localhost:8080/",
          "height": 81,
          "referenced_widgets": [
            "263c6a20888c46cd935cb3bcde01f58b",
            "a0788136a38d41c98453daca70dc1031",
            "3d65ade963a94695a76bf2028e59eaaa",
            "d33c805afdc6416a8de6641db550d420",
            "b827db8f7b8a452cbc858d4241fdf1b1",
            "c59d15bbcf6043e4b4155c06788ec536",
            "408a11733ea34e03be9d2779c29b9659",
            "ec9a351a7b044d4c8137582d99734a03",
            "e9c34de2f1e34e3a941e8abfdea87dc8",
            "f3c21774786646ada15adde6010373e9",
            "3c02ba5248fc4852a394b0305f67e851",
            "d271b761e2ae49d48282d17ef8bf3489",
            "228b48364d044e4dbf2d579dff18229b",
            "043d9cc25c7a4c72af0a447f1133708a",
            "aabe34a0a7454b80903d550e008dd821",
            "928106b57ae84f78b4a6a44e95125db7",
            "a7c0b1070cd9433ab613111f43fad55d",
            "72159304ca084e489165112ff7936d21",
            "cfa6dbee3b0b49e1a8536f917d72266b",
            "55f9a45ce3c54ffe8f63f0b9f45398b3",
            "ac50d7e5edfc4a1e90e1857b2b9c1ec5",
            "2d3b8ce5f01647d2a7d148feeb2dfaef"
          ]
        },
        "id": "bdubEJn3lvQD",
        "outputId": "95b5ec15-546d-490b-e775-5f3cb6ddb0e4"
      },
      "outputs": [
        {
          "data": {
            "application/vnd.jupyter.widget-view+json": {
              "model_id": "263c6a20888c46cd935cb3bcde01f58b",
              "version_major": 2,
              "version_minor": 0
            },
            "text/plain": [
              "  0%|          | 0/7326 [00:00<?, ?it/s]"
            ]
          },
          "metadata": {},
          "output_type": "display_data"
        },
        {
          "data": {
            "application/vnd.jupyter.widget-view+json": {
              "model_id": "d271b761e2ae49d48282d17ef8bf3489",
              "version_major": 2,
              "version_minor": 0
            },
            "text/plain": [
              "  0%|          | 0/7360 [00:00<?, ?it/s]"
            ]
          },
          "metadata": {},
          "output_type": "display_data"
        }
      ],
      "source": [
        "# loading images for training:\n",
        "x_train_image = np.array([load_image(i) for i in tqdm(df_train['image'])])\n",
        "\n",
        "# loading images for testing:\n",
        "x_test_image = np.array([load_image(i) for i in tqdm(df_test['image'])])"
      ]
    },
    {
      "cell_type": "code",
      "execution_count": 10,
      "metadata": {
        "colab": {
          "base_uri": "https://localhost:8080/"
        },
        "id": "Ho6MYrH9jwQ6",
        "outputId": "06403ca9-c06d-4b3c-a3b3-8b8b380ef6d9"
      },
      "outputs": [
        {
          "name": "stdout",
          "output_type": "stream",
          "text": [
            "unique values for price category 3 [1 0 2]\n",
            "unique values for type category 24 [ 1 17 22 10 18 20  8  4 23  2  5 13 15 16 14 11 19  0 21  3  6 12  7  9]\n"
          ]
        }
      ],
      "source": [
        "df_train.summary = df_train.summary.astype('str')\n",
        "df_test.summary = df_test.summary.astype('str')\n",
        "\n",
        "# labels:\n",
        "y_price = df_train.price # price category/label, either 0, 1, or 2 corresponding to beginner, plus, or premium respectively\n",
        "y_type = df_train.type.astype('category').cat.codes # rental type label, categorically encode 24 available property types (i.e. hotel, apartment, villa, boat, etc.)\n",
        "#features\n",
        "x_train_text=df_train.summary\n",
        "len_price = len(y_price.unique()) # number of unique labels for price\n",
        "len_type = len(y_type.unique()) # number of unique labels for rental type\n",
        "print('unique values for price category', len_price, y_price.unique()) # print them so we can see the unique values for our labels\n",
        "print('unique values for type category', len_type, y_type.unique())"
      ]
    },
    {
      "cell_type": "markdown",
      "metadata": {
        "id": "MDvRXkFxn9a0"
      },
      "source": [
        "### 4- tokenizing"
      ]
    },
    {
      "cell_type": "code",
      "execution_count": 11,
      "metadata": {
        "colab": {
          "base_uri": "https://localhost:8080/"
        },
        "id": "smWcEF0ym__J",
        "outputId": "6c36b330-113e-455f-f53a-473329779924"
      },
      "outputs": [
        {
          "name": "stdout",
          "output_type": "stream",
          "text": [
            "(7326, 100)\n",
            "(7360, 100)\n"
          ]
        }
      ],
      "source": [
        "vocab_size = 40000\n",
        "max_len = 100\n",
        "\n",
        "\n",
        "# build vocabulary from training set\n",
        "tokenizer = Tokenizer(num_words=vocab_size)\n",
        "tokenizer.fit_on_texts(x_train_text)\n",
        "\n",
        "\n",
        "def _preprocess(list_of_text):\n",
        "    return pad_sequences(\n",
        "        tokenizer.texts_to_sequences(list_of_text),\n",
        "        maxlen=max_len,\n",
        "        padding='post',\n",
        "    )\n",
        "    \n",
        "\n",
        "# padding is done inside: \n",
        "x_train_text_id = _preprocess(x_train_text)\n",
        "x_test_text = _preprocess(df_test['summary'].astype('str'))\n",
        "\n",
        "print(x_train_text_id.shape)\n",
        "print(x_test_text.shape)"
      ]
    },
    {
      "cell_type": "code",
      "execution_count": 12,
      "metadata": {
        "colab": {
          "base_uri": "https://localhost:8080/"
        },
        "id": "etcvsF0pnFzC",
        "outputId": "93d9d8c2-3788-442c-c04e-00150c5d6d75"
      },
      "outputs": [
        {
          "name": "stdout",
          "output_type": "stream",
          "text": [
            "first output 24\n",
            "second output 3\n"
          ]
        }
      ],
      "source": [
        "#first output shape\n",
        "print(\"first output\",len(df_train.type.unique()))\n",
        "#second output shape\n",
        "print(\"second output\", len(df_train.price.unique()))"
      ]
    },
    {
      "cell_type": "code",
      "execution_count": 13,
      "metadata": {
        "colab": {
          "base_uri": "https://localhost:8080/"
        },
        "id": "ii2VaSUnnkT4",
        "outputId": "4e7c4325-a62a-4cc4-e59b-adc2c3ed9041"
      },
      "outputs": [
        {
          "name": "stdout",
          "output_type": "stream",
          "text": [
            "total words in the dictionary: 40000\n"
          ]
        }
      ],
      "source": [
        "print('total words in the dictionary:', tokenizer.num_words)"
      ]
    },
    {
      "cell_type": "code",
      "execution_count": 14,
      "metadata": {
        "id": "hoSzykfXrAVZ"
      },
      "outputs": [],
      "source": [
        "#creates training and validation splits for our image and text feature spaces\n",
        "# along with our two label sets, price and rental type\n",
        "x_tr_image, x_vl_image, x_tr_text, x_vl_text, y_tr_price, y_vl_price, y_tr_type, y_vl_type = train_test_split(x_train_image, x_train_text_id, y_price, y_type, test_size=0.2) # our validation splits are a hold-out set containing 20% of the training set"
      ]
    },
    {
      "cell_type": "markdown",
      "metadata": {
        "id": "gaY9mIC1pceX"
      },
      "source": [
        "# Model building"
      ]
    },
    {
      "cell_type": "code",
      "execution_count": 15,
      "metadata": {
        "id": "hSpEhu8mny1B"
      },
      "outputs": [],
      "source": [
        "# method used to plot history after training to explore model behaviour\n",
        "def visualize(history):\n",
        "\n",
        "  # generate a figure containing 3 plots displayed horizontally\n",
        "  fig, (ax1, ax2, ax3) = plt.subplots(1, 3, figsize=(12,4))\n",
        "  fig.suptitle('Model Results')\n",
        "  \n",
        "  # first we display the training price accuracy vs. the validation price accuracy\n",
        "  ax1.plot(history.history['price_sparse_categorical_accuracy'])\n",
        "  ax1.plot(history.history['val_price_sparse_categorical_accuracy'])\n",
        "  ax1.set_title('price accuracy')\n",
        "  ax1.set_ylabel('accuracy')\n",
        "  ax1.set_xlabel('epoch')\n",
        "  ax1.legend(['train_price', 'validation_price'], loc='upper left')\n",
        "\n",
        "  # same with the other specified accuracy metric, type accuracy\n",
        "  ax2.plot(history.history['type_sparse_categorical_accuracy'])\n",
        "  ax2.plot(history.history['val_type_sparse_categorical_accuracy'])\n",
        "  ax2.set_title('type accuracy')\n",
        "  ax2.set_ylabel('accuracy')\n",
        "  ax2.set_xlabel('epoch')\n",
        "  ax2.legend(['train_type', 'validation_type'], loc='upper left')\n",
        "\n",
        "  # on the last axis, we plot the training loss against the validation loss (w.r.t. price and type combined)\n",
        "  ax3.plot(history.history['loss'])\n",
        "  ax3.plot(history.history['val_loss'])\n",
        "  ax3.set_title('model loss')\n",
        "  ax3.set_ylabel('loss')\n",
        "  ax3.set_xlabel('epoch')\n",
        "  ax3.legend(['train', 'validation'], loc='upper left')\n",
        "\n",
        "  plt.show() # display the figure\n",
        "\n",
        "\n",
        "def compile(model, lr=0.001):\n",
        "  # compile model\n",
        "  model.compile(\n",
        "      optimizer=Adam(learning_rate=lr), # using Adam for optimization\n",
        "      # measuring sparse categorical cross-entropy loss for both price and type labels\n",
        "      # sparse categorical cross-entropy is used since our labels are integers\n",
        "      loss={\n",
        "          'price': 'sparse_categorical_crossentropy',\n",
        "          'type': 'sparse_categorical_crossentropy',\n",
        "      },\n",
        "      # equally weight the loss w.r.t. both labels\n",
        "      loss_weights={\n",
        "          'price': 0.5,\n",
        "          'type': 0.5,       \n",
        "      },\n",
        "      # evaluation metric for this task is accuracy, so we measure sparse categorical accuracy for both targets\n",
        "      # again, our labels are categorical integers, so we use sparse categorical accuracy\n",
        "      metrics={\n",
        "          'price': ['SparseCategoricalAccuracy'],\n",
        "          'type': ['SparseCategoricalAccuracy'],\n",
        "      },\n",
        "  )\n",
        "\n",
        "def train(model, cbs, epochs=20, batch=16, val=0.2):\n",
        "  # fit our model on our training data\n",
        "  history = model.fit(\n",
        "      # our inputs: tokenized text sequences and resized image samples\n",
        "      x={\n",
        "          'summary': x_tr_text,\n",
        "          'image': x_tr_image\n",
        "      },\n",
        "      # our outputs: price and rental type categories\n",
        "      y={\n",
        "          'price': y_tr_price,\n",
        "          'type': y_tr_type,\n",
        "      },\n",
        "      epochs=epochs, # variable, number of iterations over all training data\n",
        "      batch_size=batch, # variable batch size, samples processed before updating gradients\n",
        "      # our validation splits for our two input sets and our two target attributes\n",
        "      validation_data=(\n",
        "          {\n",
        "              'summary': x_vl_text,\n",
        "              'image': x_vl_image\n",
        "          }, \n",
        "          {\n",
        "              'price': y_vl_price,\n",
        "              'type': y_vl_type,\n",
        "          }),\n",
        "      validation_split=val, # validate on a hold-out set of 20%, even though splits were already created above???? This is redundant.\n",
        "      # use early stopping, monitor the validation price loss and if it does not improve for 5 consecutive epochs, training will stop\n",
        "      callbacks=cbs,\n",
        "      verbose=1 # one line per epoch displaying performance metrics\n",
        "  )\n",
        "  return history"
      ]
    },
    {
      "cell_type": "markdown",
      "metadata": {
        "id": "WDh-9sBgqzqt"
      },
      "source": [
        "# Trial 1\n",
        "## Text part\n",
        "- Embedding layer\n",
        "- Average layer\n",
        "- Dropout = 50% to reduce overfitting.\n",
        "## Image part\n",
        "- Convolutional layer with 32 filters, and a 16*16 mask\n",
        "- Max pooling with a 16*16 mask\n",
        "- Flatten layer"
      ]
    },
    {
      "cell_type": "code",
      "execution_count": 16,
      "metadata": {
        "colab": {
          "base_uri": "https://localhost:8080/"
        },
        "id": "aIdGPU9Pq0JF",
        "outputId": "c6b985ad-c521-4bbd-d4a4-a360aafc283e"
      },
      "outputs": [
        {
          "name": "stdout",
          "output_type": "stream",
          "text": [
            "Model: \"model\"\n",
            "__________________________________________________________________________________________________\n",
            " Layer (type)                   Output Shape         Param #     Connected to                     \n",
            "==================================================================================================\n",
            " input_1 (InputLayer)           [(None, 100)]        0           []                               \n",
            "                                                                                                  \n",
            " input_2 (InputLayer)           [(None, 64, 64, 2)]  0           []                               \n",
            "                                                                                                  \n",
            " embedding (Embedding)          (None, 100, 100)     4000000     ['input_1[0][0]']                \n",
            "                                                                                                  \n",
            " conv2d (Conv2D)                (None, 49, 49, 32)   16416       ['input_2[0][0]']                \n",
            "                                                                                                  \n",
            " tf.math.reduce_mean (TFOpLambd  (None, 100)         0           ['embedding[0][0]']              \n",
            " a)                                                                                               \n",
            "                                                                                                  \n",
            " max_pooling2d (MaxPooling2D)   (None, 3, 3, 32)     0           ['conv2d[0][0]']                 \n",
            "                                                                                                  \n",
            " dropout (Dropout)              (None, 100)          0           ['tf.math.reduce_mean[0][0]']    \n",
            "                                                                                                  \n",
            " flatten (Flatten)              (None, 288)          0           ['max_pooling2d[0][0]']          \n",
            "                                                                                                  \n",
            " tf.concat (TFOpLambda)         (None, 388)          0           ['dropout[0][0]',                \n",
            "                                                                  'flatten[0][0]']                \n",
            "                                                                                                  \n",
            " price (Dense)                  (None, 3)            1167        ['tf.concat[0][0]']              \n",
            "                                                                                                  \n",
            " type (Dense)                   (None, 24)           9336        ['tf.concat[0][0]']              \n",
            "                                                                                                  \n",
            "==================================================================================================\n",
            "Total params: 4,026,919\n",
            "Trainable params: 4,026,919\n",
            "Non-trainable params: 0\n",
            "__________________________________________________________________________________________________\n"
          ]
        }
      ],
      "source": [
        "in_text = keras.Input(batch_shape=(None, max_len))\n",
        "in_image = keras.Input(batch_shape=(None, 64, 64, 2))\n",
        "\n",
        "# text part\n",
        "embedded = keras.layers.Embedding(tokenizer.num_words, 100)(in_text)# embedding requires to encoded input data to integer encoded, so that each word is represented by a unique integer\n",
        "averaged = tf.reduce_mean(embedded, axis=1)  # reduce_mean that compute the mean value of embeddded\n",
        "averaged= Dropout(0.5)(averaged)# 50% dropout\n",
        "\n",
        "# image part \n",
        "# Conv2D is a two-dimensional convolution layer that generates a tensor of outputs by winding a convolution kernel with the layers input\n",
        "# MaxPool2D used to reduces the dimensionality of images that is  by reducing the number of pixels in the output from the previous convolutional layer.\n",
        "cov = Conv2D(32, (16, 16))(in_image) # convolutional layer with 32 filters, and a 16*16 mask, no padding\n",
        "pl = MaxPool2D((16, 16))(cov) # max pooling with a 16*16 mask\n",
        "flattened = Flatten()(pl) # flatten the shape to (288,)\n",
        "\n",
        "# fusion - combinig both the text and the image\n",
        "fused = tf.concat([averaged, flattened], axis=-1)\n",
        "\n",
        "# multi-task learning (each is a multi-class classification)\n",
        "# one dense layer for each task(type and price)\n",
        "p_type = Dense(len_type, activation='softmax', name='type')(fused)\n",
        "p_price = Dense(len_price, activation='softmax', name='price')(fused)\n",
        "\n",
        "\n",
        "# define model input/output using keys.\n",
        "model = keras.Model(\n",
        "    inputs={\n",
        "        'summary': in_text,\n",
        "        'image': in_image\n",
        "    },\n",
        "    outputs={\n",
        "        'type': p_type,\n",
        "        'price': p_price,\n",
        "    },\n",
        ")\n",
        "\n",
        "\n",
        "# compile model with optimizer, loss values for each task, loss \n",
        "# weights for each task.\n",
        "model.compile(\n",
        "    optimizer=Adam(),\n",
        "    loss={\n",
        "        'type': 'sparse_categorical_crossentropy',\n",
        "        'price': 'sparse_categorical_crossentropy',\n",
        "    },\n",
        "    loss_weights={\n",
        "        'type': 0.5,\n",
        "        'price': 0.5,       \n",
        "    },\n",
        "    metrics={\n",
        "        'type': ['SparseCategoricalAccuracy'],\n",
        "        'price': ['SparseCategoricalAccuracy'],\n",
        "    },\n",
        ")\n",
        "\n",
        "\n",
        "model.summary()"
      ]
    },
    {
      "cell_type": "code",
      "execution_count": 17,
      "metadata": {
        "colab": {
          "base_uri": "https://localhost:8080/"
        },
        "id": "PbZVGhtwtpyQ",
        "outputId": "eadab10c-775e-4507-ae13-f639e03ea40f"
      },
      "outputs": [
        {
          "name": "stdout",
          "output_type": "stream",
          "text": [
            "Epoch 1/20\n",
            "367/367 [==============================] - 41s 81ms/step - loss: 1.0427 - price_loss: 0.8523 - type_loss: 1.2332 - price_sparse_categorical_accuracy: 0.6140 - type_sparse_categorical_accuracy: 0.7503 - val_loss: 0.9112 - val_price_loss: 0.8168 - val_type_loss: 1.0056 - val_price_sparse_categorical_accuracy: 0.6419 - val_type_sparse_categorical_accuracy: 0.7572\n",
            "Epoch 2/20\n",
            "367/367 [==============================] - 8s 23ms/step - loss: 0.9035 - price_loss: 0.8206 - type_loss: 0.9863 - price_sparse_categorical_accuracy: 0.6166 - type_sparse_categorical_accuracy: 0.7589 - val_loss: 0.9046 - val_price_loss: 0.8185 - val_type_loss: 0.9906 - val_price_sparse_categorical_accuracy: 0.6596 - val_type_sparse_categorical_accuracy: 0.7572\n",
            "Epoch 3/20\n",
            "367/367 [==============================] - 5s 14ms/step - loss: 0.8759 - price_loss: 0.7854 - type_loss: 0.9664 - price_sparse_categorical_accuracy: 0.6386 - type_sparse_categorical_accuracy: 0.7589 - val_loss: 0.8666 - val_price_loss: 0.7654 - val_type_loss: 0.9679 - val_price_sparse_categorical_accuracy: 0.6678 - val_type_sparse_categorical_accuracy: 0.7572\n",
            "Epoch 4/20\n",
            "367/367 [==============================] - 5s 13ms/step - loss: 0.8426 - price_loss: 0.7478 - type_loss: 0.9374 - price_sparse_categorical_accuracy: 0.6626 - type_sparse_categorical_accuracy: 0.7589 - val_loss: 0.8411 - val_price_loss: 0.7388 - val_type_loss: 0.9434 - val_price_sparse_categorical_accuracy: 0.6828 - val_type_sparse_categorical_accuracy: 0.7572\n",
            "Epoch 5/20\n",
            "367/367 [==============================] - 4s 11ms/step - loss: 0.8133 - price_loss: 0.7199 - type_loss: 0.9067 - price_sparse_categorical_accuracy: 0.6799 - type_sparse_categorical_accuracy: 0.7592 - val_loss: 0.8182 - val_price_loss: 0.7226 - val_type_loss: 0.9138 - val_price_sparse_categorical_accuracy: 0.6719 - val_type_sparse_categorical_accuracy: 0.7599\n",
            "Epoch 6/20\n",
            "367/367 [==============================] - 3s 8ms/step - loss: 0.7861 - price_loss: 0.6969 - type_loss: 0.8753 - price_sparse_categorical_accuracy: 0.6935 - type_sparse_categorical_accuracy: 0.7602 - val_loss: 0.8104 - val_price_loss: 0.7199 - val_type_loss: 0.9008 - val_price_sparse_categorical_accuracy: 0.6849 - val_type_sparse_categorical_accuracy: 0.7619\n",
            "Epoch 7/20\n",
            "367/367 [==============================] - 4s 11ms/step - loss: 0.7605 - price_loss: 0.6780 - type_loss: 0.8430 - price_sparse_categorical_accuracy: 0.7017 - type_sparse_categorical_accuracy: 0.7650 - val_loss: 0.7931 - val_price_loss: 0.7082 - val_type_loss: 0.8781 - val_price_sparse_categorical_accuracy: 0.6828 - val_type_sparse_categorical_accuracy: 0.7626\n",
            "Epoch 8/20\n",
            "367/367 [==============================] - 3s 8ms/step - loss: 0.7393 - price_loss: 0.6638 - type_loss: 0.8147 - price_sparse_categorical_accuracy: 0.7111 - type_sparse_categorical_accuracy: 0.7701 - val_loss: 0.7839 - val_price_loss: 0.7073 - val_type_loss: 0.8604 - val_price_sparse_categorical_accuracy: 0.6862 - val_type_sparse_categorical_accuracy: 0.7647\n",
            "Epoch 9/20\n",
            "367/367 [==============================] - 4s 10ms/step - loss: 0.7205 - price_loss: 0.6496 - type_loss: 0.7913 - price_sparse_categorical_accuracy: 0.7196 - type_sparse_categorical_accuracy: 0.7735 - val_loss: 0.7755 - val_price_loss: 0.7053 - val_type_loss: 0.8457 - val_price_sparse_categorical_accuracy: 0.6896 - val_type_sparse_categorical_accuracy: 0.7647\n",
            "Epoch 10/20\n",
            "367/367 [==============================] - 3s 9ms/step - loss: 0.7007 - price_loss: 0.6376 - type_loss: 0.7638 - price_sparse_categorical_accuracy: 0.7295 - type_sparse_categorical_accuracy: 0.7829 - val_loss: 0.7676 - val_price_loss: 0.7016 - val_type_loss: 0.8337 - val_price_sparse_categorical_accuracy: 0.6889 - val_type_sparse_categorical_accuracy: 0.7647\n",
            "Epoch 11/20\n",
            "367/367 [==============================] - 4s 10ms/step - loss: 0.6830 - price_loss: 0.6219 - type_loss: 0.7442 - price_sparse_categorical_accuracy: 0.7358 - type_sparse_categorical_accuracy: 0.7874 - val_loss: 0.7634 - val_price_loss: 0.7013 - val_type_loss: 0.8256 - val_price_sparse_categorical_accuracy: 0.6883 - val_type_sparse_categorical_accuracy: 0.7715\n",
            "Epoch 12/20\n",
            "367/367 [==============================] - 3s 8ms/step - loss: 0.6666 - price_loss: 0.6113 - type_loss: 0.7219 - price_sparse_categorical_accuracy: 0.7449 - type_sparse_categorical_accuracy: 0.7933 - val_loss: 0.7602 - val_price_loss: 0.7025 - val_type_loss: 0.8178 - val_price_sparse_categorical_accuracy: 0.6896 - val_type_sparse_categorical_accuracy: 0.7776\n",
            "Epoch 13/20\n",
            "367/367 [==============================] - 3s 8ms/step - loss: 0.6507 - price_loss: 0.6010 - type_loss: 0.7004 - price_sparse_categorical_accuracy: 0.7485 - type_sparse_categorical_accuracy: 0.8015 - val_loss: 0.7580 - val_price_loss: 0.7018 - val_type_loss: 0.8141 - val_price_sparse_categorical_accuracy: 0.6876 - val_type_sparse_categorical_accuracy: 0.7742\n",
            "Epoch 14/20\n",
            "367/367 [==============================] - 2s 7ms/step - loss: 0.6363 - price_loss: 0.5902 - type_loss: 0.6824 - price_sparse_categorical_accuracy: 0.7517 - type_sparse_categorical_accuracy: 0.8038 - val_loss: 0.7543 - val_price_loss: 0.7073 - val_type_loss: 0.8013 - val_price_sparse_categorical_accuracy: 0.6883 - val_type_sparse_categorical_accuracy: 0.7790\n",
            "Epoch 15/20\n",
            "367/367 [==============================] - 4s 10ms/step - loss: 0.6206 - price_loss: 0.5819 - type_loss: 0.6594 - price_sparse_categorical_accuracy: 0.7582 - type_sparse_categorical_accuracy: 0.8119 - val_loss: 0.7522 - val_price_loss: 0.7119 - val_type_loss: 0.7926 - val_price_sparse_categorical_accuracy: 0.6903 - val_type_sparse_categorical_accuracy: 0.7844\n",
            "Epoch 16/20\n",
            "367/367 [==============================] - 3s 7ms/step - loss: 0.6056 - price_loss: 0.5703 - type_loss: 0.6410 - price_sparse_categorical_accuracy: 0.7633 - type_sparse_categorical_accuracy: 0.8143 - val_loss: 0.7574 - val_price_loss: 0.7234 - val_type_loss: 0.7914 - val_price_sparse_categorical_accuracy: 0.6889 - val_type_sparse_categorical_accuracy: 0.7831\n"
          ]
        }
      ],
      "source": [
        "# fit our model on our training data\n",
        "history = model.fit(\n",
        "    # our inputs: tokenized text sequences and resized image samples\n",
        "    x={\n",
        "        'summary': x_tr_text,\n",
        "        'image': x_tr_image\n",
        "    },\n",
        "    # our outputs: price and rental type categories\n",
        "    y={\n",
        "        'price': y_tr_price,\n",
        "        'type': y_tr_type,\n",
        "    },\n",
        "    epochs=20, # train for 20 epochs (iterations over all training data)\n",
        "    batch_size=16, # batch size of 16 (samples processed before updating gradients)\n",
        "    # our validation splits for our two input sets and our two target attributes\n",
        "    validation_data=(\n",
        "        {\n",
        "            'summary': x_vl_text,\n",
        "            'image': x_vl_image\n",
        "         }, \n",
        "        {\n",
        "            'price': y_vl_price,\n",
        "            'type': y_vl_type,\n",
        "        }),\n",
        "    validation_split=0.2, # validate on a hold-out set of 20%, even though splits were already created above???? Pretty sure this is redundant.\n",
        "    # use early stopping, monitor the validation price loss and if it does not improve for 5 consecutive epochs, training will stop\n",
        "    callbacks=[\n",
        "        tf.keras.callbacks.EarlyStopping(monitor='val_price_loss', patience=5, )\n",
        "    ],\n",
        "    verbose=1 # one line per epoch displaying performance metrics\n",
        ")"
      ]
    },
    {
      "cell_type": "code",
      "execution_count": 18,
      "metadata": {
        "colab": {
          "base_uri": "https://localhost:8080/",
          "height": 428
        },
        "id": "aXUSQeF9t-3l",
        "outputId": "6fe19191-53c0-4a2b-86f3-62432a5a06a1"
      },
      "outputs": [
        {
          "data": {
            "image/png": "[encoded data removed]",
            "text/plain": [
              "<Figure size 1200x400 with 3 Axes>"
            ]
          },
          "metadata": {},
          "output_type": "display_data"
        }
      ],
      "source": [
        "# visualize the accuracy and loss of the model using helper function\n",
        "visualize(history)"
      ]
    },
    {
      "cell_type": "code",
      "execution_count": 19,
      "metadata": {
        "colab": {
          "base_uri": "https://localhost:8080/"
        },
        "id": "URmlIeGdwTwr",
        "outputId": "0a803689-ebef-441d-d205-79381f8956e8"
      },
      "outputs": [
        {
          "name": "stdout",
          "output_type": "stream",
          "text": [
            "230/230 [==============================] - 1s 3ms/step\n",
            "[[0.56458646 0.36991054 0.06550295]\n",
            " [0.9442115  0.05065702 0.00513152]\n",
            " [0.76687866 0.18687929 0.04624208]\n",
            " ...\n",
            " [0.71599346 0.25830284 0.02570374]\n",
            " [0.9567259  0.03624928 0.00702484]\n",
            " [0.77077734 0.20296623 0.02625648]]\n",
            "[0 0 0 ... 0 0 0]\n"
          ]
        }
      ],
      "source": [
        "#start predicting the values of type and price using summary and image as inputs\n",
        "first_prediction = model.predict(\n",
        "    {\n",
        "        'summary': x_test_text,\n",
        "        'image': x_test_image\n",
        "    }\n",
        ")\n",
        "\n",
        "\n",
        "# probabilities\n",
        "first_prediction = first_prediction['price']\n",
        "print(first_prediction)\n",
        "\n",
        "# categories\n",
        "first_prediction = np.argmax(first_prediction, axis=1)\n",
        "print(first_prediction)"
      ]
    },
    {
      "cell_type": "code",
      "execution_count": 20,
      "metadata": {
        "id": "v-MFfu9SwxOR"
      },
      "outputs": [],
      "source": [
        "pd.DataFrame(\n",
        "    {'id': df_test['id'],\n",
        "     'price': first_prediction}\n",
        ").to_csv('trial1.csv', index=False)"
      ]
    },
    {
      "cell_type": "markdown",
      "metadata": {
        "id": "mjVz6zojxqsm"
      },
      "source": [
        "Observation: 67% on kaggle"
      ]
    },
    {
      "cell_type": "markdown",
      "metadata": {
        "id": "SYnpI9CexkeX"
      },
      "source": [
        "#Trial 2 \n",
        "###LSTM and conv2d between embedded to increase accuracy on Text"
      ]
    },
    {
      "cell_type": "code",
      "execution_count": 21,
      "metadata": {
        "colab": {
          "base_uri": "https://localhost:8080/"
        },
        "id": "Gyf2nfKVxoZg",
        "outputId": "c780f5c8-3c1b-4916-a796-fcfee098ca34"
      },
      "outputs": [
        {
          "name": "stdout",
          "output_type": "stream",
          "text": [
            "Model: \"model_1\"\n",
            "__________________________________________________________________________________________________\n",
            " Layer (type)                   Output Shape         Param #     Connected to                     \n",
            "==================================================================================================\n",
            " input_4 (InputLayer)           [(None, 64, 64, 2)]  0           []                               \n",
            "                                                                                                  \n",
            " input_3 (InputLayer)           [(None, 100)]        0           []                               \n",
            "                                                                                                  \n",
            " conv2d_1 (Conv2D)              (None, 49, 49, 32)   16416       ['input_4[0][0]']                \n",
            "                                                                                                  \n",
            " embedding_1 (Embedding)        (None, 100, 100)     4000000     ['input_3[0][0]']                \n",
            "                                                                                                  \n",
            " max_pooling2d_1 (MaxPooling2D)  (None, 3, 3, 32)    0           ['conv2d_1[0][0]']               \n",
            "                                                                                                  \n",
            " lstm (LSTM)                    (None, 50)           30200       ['embedding_1[0][0]']            \n",
            "                                                                                                  \n",
            " flatten_1 (Flatten)            (None, 288)          0           ['max_pooling2d_1[0][0]']        \n",
            "                                                                                                  \n",
            " tf.concat_1 (TFOpLambda)       (None, 338)          0           ['lstm[0][0]',                   \n",
            "                                                                  'flatten_1[0][0]']              \n",
            "                                                                                                  \n",
            " price (Dense)                  (None, 3)            1017        ['tf.concat_1[0][0]']            \n",
            "                                                                                                  \n",
            " type (Dense)                   (None, 24)           8136        ['tf.concat_1[0][0]']            \n",
            "                                                                                                  \n",
            "==================================================================================================\n",
            "Total params: 4,055,769\n",
            "Trainable params: 4,055,769\n",
            "Non-trainable params: 0\n",
            "__________________________________________________________________________________________________\n"
          ]
        }
      ],
      "source": [
        "in_text = keras.Input(batch_shape=(None, max_len))\n",
        "in_image = keras.Input(batch_shape=(None, 64, 64, 2)) # input shape for batches of images (size 64x64x2)\n",
        "\n",
        "# text part\n",
        "embedded = keras.layers.Embedding(tokenizer.num_words, 100)(in_text) # get our word embeddings\n",
        "\n",
        "# only part I'm changing is adding an LSTM layer on top of the embedding layer\n",
        "# averaged = tf.reduce_mean(embedded, axis=1) # compute the mean of the embeddings to reduce the rank of the embedding\n",
        "lstm = LSTM(50)(embedded)\n",
        "\n",
        "# image part\n",
        "cov = Conv2D(32, (16, 16))(in_image) # convolutional layer with 32 filters, and a 16x16 mask, no padding\n",
        "pl = MaxPool2D((16, 16))(cov) # max pooling with a 16x16 mask, reducing the size to 3x3x32\n",
        "flattened = Flatten()(pl) # flatten the shape to (288,)\n",
        "\n",
        "\n",
        "# fusion:\n",
        "fused = tf.concat([lstm, flattened], axis=-1) # concatenate text features with images\n",
        "\n",
        "# multi-objectives (each is a multi-class classification)\n",
        "p_price = Dense(len_price, activation='softmax', name='price')(fused) # predict price label 0, 1, or 2\n",
        "p_type = Dense(len_type, activation='softmax', name='type')(fused) # predict rental category label [0-23]\n",
        "\n",
        "# model definition\n",
        "lstm_model = keras.Model(\n",
        "    inputs={\n",
        "        'summary': in_text, # text inputs\n",
        "        'image': in_image # image inputs\n",
        "    },\n",
        "    outputs={\n",
        "        'price': p_price, # label 1: price category (0, 1, or 2)\n",
        "        'type': p_type, # label 2: type category [0-23]\n",
        "    },\n",
        ")\n",
        "\n",
        "compile(lstm_model) # compiles the model with the helper to improve readability\n",
        "lstm_model.summary()"
      ]
    },
    {
      "cell_type": "code",
      "execution_count": 22,
      "metadata": {
        "id": "odRLTNAJ0nNX"
      },
      "outputs": [],
      "source": [
        "callbacks = [tf.keras.callbacks.EarlyStopping(monitor='val_price_loss', patience=10,)]"
      ]
    },
    {
      "cell_type": "code",
      "execution_count": 23,
      "metadata": {
        "colab": {
          "base_uri": "https://localhost:8080/"
        },
        "id": "5QVgxUcL0YGZ",
        "outputId": "f028047f-7f3d-49bb-9085-f449af2a0ee7"
      },
      "outputs": [
        {
          "name": "stdout",
          "output_type": "stream",
          "text": [
            "Epoch 1/20\n",
            "367/367 [==============================] - 29s 68ms/step - loss: 0.9901 - price_loss: 0.8580 - type_loss: 1.1222 - price_sparse_categorical_accuracy: 0.6089 - type_sparse_categorical_accuracy: 0.7572 - val_loss: 0.9190 - val_price_loss: 0.8239 - val_type_loss: 1.0142 - val_price_sparse_categorical_accuracy: 0.6419 - val_type_sparse_categorical_accuracy: 0.7572\n",
            "Epoch 2/20\n",
            "367/367 [==============================] - 7s 20ms/step - loss: 0.9224 - price_loss: 0.8416 - type_loss: 1.0032 - price_sparse_categorical_accuracy: 0.6152 - type_sparse_categorical_accuracy: 0.7589 - val_loss: 0.9184 - val_price_loss: 0.8252 - val_type_loss: 1.0116 - val_price_sparse_categorical_accuracy: 0.6419 - val_type_sparse_categorical_accuracy: 0.7572\n",
            "Epoch 3/20\n",
            "367/367 [==============================] - 5s 14ms/step - loss: 0.9230 - price_loss: 0.8434 - type_loss: 1.0026 - price_sparse_categorical_accuracy: 0.6152 - type_sparse_categorical_accuracy: 0.7589 - val_loss: 0.9269 - val_price_loss: 0.8407 - val_type_loss: 1.0130 - val_price_sparse_categorical_accuracy: 0.6419 - val_type_sparse_categorical_accuracy: 0.7572\n",
            "Epoch 4/20\n",
            "367/367 [==============================] - 7s 18ms/step - loss: 0.9220 - price_loss: 0.8428 - type_loss: 1.0012 - price_sparse_categorical_accuracy: 0.6152 - type_sparse_categorical_accuracy: 0.7589 - val_loss: 0.9193 - val_price_loss: 0.8242 - val_type_loss: 1.0145 - val_price_sparse_categorical_accuracy: 0.6419 - val_type_sparse_categorical_accuracy: 0.7572\n",
            "Epoch 5/20\n",
            "367/367 [==============================] - 5s 13ms/step - loss: 0.9228 - price_loss: 0.8430 - type_loss: 1.0025 - price_sparse_categorical_accuracy: 0.6152 - type_sparse_categorical_accuracy: 0.7589 - val_loss: 0.9219 - val_price_loss: 0.8292 - val_type_loss: 1.0145 - val_price_sparse_categorical_accuracy: 0.6419 - val_type_sparse_categorical_accuracy: 0.7572\n",
            "Epoch 6/20\n",
            "367/367 [==============================] - 5s 14ms/step - loss: 0.9211 - price_loss: 0.8414 - type_loss: 1.0008 - price_sparse_categorical_accuracy: 0.6152 - type_sparse_categorical_accuracy: 0.7589 - val_loss: 0.9194 - val_price_loss: 0.8240 - val_type_loss: 1.0148 - val_price_sparse_categorical_accuracy: 0.6419 - val_type_sparse_categorical_accuracy: 0.7572\n",
            "Epoch 7/20\n",
            "367/367 [==============================] - 5s 12ms/step - loss: 0.9215 - price_loss: 0.8422 - type_loss: 1.0008 - price_sparse_categorical_accuracy: 0.6152 - type_sparse_categorical_accuracy: 0.7589 - val_loss: 0.9191 - val_price_loss: 0.8266 - val_type_loss: 1.0116 - val_price_sparse_categorical_accuracy: 0.6419 - val_type_sparse_categorical_accuracy: 0.7572\n",
            "Epoch 8/20\n",
            "367/367 [==============================] - 6s 16ms/step - loss: 0.9207 - price_loss: 0.8415 - type_loss: 0.9999 - price_sparse_categorical_accuracy: 0.6152 - type_sparse_categorical_accuracy: 0.7589 - val_loss: 0.9233 - val_price_loss: 0.8298 - val_type_loss: 1.0167 - val_price_sparse_categorical_accuracy: 0.6419 - val_type_sparse_categorical_accuracy: 0.7572\n",
            "Epoch 9/20\n",
            "367/367 [==============================] - 5s 13ms/step - loss: 0.9214 - price_loss: 0.8412 - type_loss: 1.0015 - price_sparse_categorical_accuracy: 0.6152 - type_sparse_categorical_accuracy: 0.7590 - val_loss: 0.9190 - val_price_loss: 0.8276 - val_type_loss: 1.0105 - val_price_sparse_categorical_accuracy: 0.6419 - val_type_sparse_categorical_accuracy: 0.7572\n",
            "Epoch 10/20\n",
            "367/367 [==============================] - 4s 12ms/step - loss: 0.9195 - price_loss: 0.8402 - type_loss: 0.9989 - price_sparse_categorical_accuracy: 0.6152 - type_sparse_categorical_accuracy: 0.7590 - val_loss: 0.9216 - val_price_loss: 0.8310 - val_type_loss: 1.0122 - val_price_sparse_categorical_accuracy: 0.6419 - val_type_sparse_categorical_accuracy: 0.7572\n",
            "Epoch 11/20\n",
            "367/367 [==============================] - 6s 15ms/step - loss: 0.9200 - price_loss: 0.8407 - type_loss: 0.9993 - price_sparse_categorical_accuracy: 0.6152 - type_sparse_categorical_accuracy: 0.7592 - val_loss: 0.9189 - val_price_loss: 0.8240 - val_type_loss: 1.0138 - val_price_sparse_categorical_accuracy: 0.6419 - val_type_sparse_categorical_accuracy: 0.7572\n"
          ]
        }
      ],
      "source": [
        "#train model using helper function\n",
        "history = train(lstm_model, callbacks)"
      ]
    },
    {
      "cell_type": "code",
      "execution_count": 24,
      "metadata": {
        "colab": {
          "base_uri": "https://localhost:8080/",
          "height": 428
        },
        "id": "8j5r4hVe0sb1",
        "outputId": "b0339d08-bdc2-4577-d407-0db4843d5a81"
      },
      "outputs": [
        {
          "data": {
            "image/png": "[encoded data removed]",
            "text/plain": [
              "<Figure size 1200x400 with 3 Axes>"
            ]
          },
          "metadata": {},
          "output_type": "display_data"
        }
      ],
      "source": [
        "visualize(history)"
      ]
    },
    {
      "cell_type": "markdown",
      "metadata": {
        "id": "23LLZUP_2L5P"
      },
      "source": [
        "Observation: surprisingly the model actually had a poorer performance than the last trial"
      ]
    },
    {
      "cell_type": "markdown",
      "metadata": {
        "id": "bFzNveLu2h5j"
      },
      "source": [
        "# Trial 3\n",
        "## GRU\n",
        "The Gated Recurrent Unit (GRU) is a type of Recurrent Neural Network (RNN) that, in certain cases, has advantages over long short term memory (LSTM). GRU uses less memory and is faster than LSTM, however, LSTM is more accurate when using datasets with longer sequences."
      ]
    },
    {
      "cell_type": "code",
      "execution_count": 25,
      "metadata": {
        "colab": {
          "base_uri": "https://localhost:8080/"
        },
        "id": "aZRZ1aem1H2N",
        "outputId": "2c22d13a-c049-477e-bc99-2b87b5942b1b"
      },
      "outputs": [
        {
          "name": "stdout",
          "output_type": "stream",
          "text": [
            "Model: \"model_2\"\n",
            "__________________________________________________________________________________________________\n",
            " Layer (type)                   Output Shape         Param #     Connected to                     \n",
            "==================================================================================================\n",
            " input_6 (InputLayer)           [(None, 64, 64, 2)]  0           []                               \n",
            "                                                                                                  \n",
            " input_5 (InputLayer)           [(None, 100)]        0           []                               \n",
            "                                                                                                  \n",
            " conv2d_2 (Conv2D)              (None, 49, 49, 32)   16416       ['input_6[0][0]']                \n",
            "                                                                                                  \n",
            " embedding_2 (Embedding)        (None, 100, 100)     4000000     ['input_5[0][0]']                \n",
            "                                                                                                  \n",
            " max_pooling2d_2 (MaxPooling2D)  (None, 3, 3, 32)    0           ['conv2d_2[0][0]']               \n",
            "                                                                                                  \n",
            " gru (GRU)                      (None, 20)           7320        ['embedding_2[0][0]']            \n",
            "                                                                                                  \n",
            " flatten_2 (Flatten)            (None, 288)          0           ['max_pooling2d_2[0][0]']        \n",
            "                                                                                                  \n",
            " tf.concat_2 (TFOpLambda)       (None, 308)          0           ['gru[0][0]',                    \n",
            "                                                                  'flatten_2[0][0]']              \n",
            "                                                                                                  \n",
            " price (Dense)                  (None, 3)            927         ['tf.concat_2[0][0]']            \n",
            "                                                                                                  \n",
            " type (Dense)                   (None, 24)           7416        ['tf.concat_2[0][0]']            \n",
            "                                                                                                  \n",
            "==================================================================================================\n",
            "Total params: 4,032,079\n",
            "Trainable params: 4,032,079\n",
            "Non-trainable params: 0\n",
            "__________________________________________________________________________________________________\n"
          ]
        }
      ],
      "source": [
        "in_text = keras.Input(batch_shape=(None, max_len))\n",
        "in_image = keras.Input(batch_shape=(None, 64, 64, 2)) # input shape for batches of images (size 64x64x2)\n",
        "\n",
        "# text part\n",
        "embedded = keras.layers.Embedding(tokenizer.num_words, 100)(in_text) # get our word embeddings\n",
        "# averaged = tf.reduce_mean(embedded, axis=1) # compute the mean of the embeddings to reduce the rank of the embedding\n",
        "lstm = GRU(20)(embedded) # fewer hidden units might improve training time?\n",
        "\n",
        "# image part\n",
        "cov = Conv2D(32, (16, 16))(in_image) # convolutional layer with 32 filters, and a 16x16 mask, no padding\n",
        "pl = MaxPool2D((16, 16))(cov) # max pooling with a 16x16 mask, reducing the size to 3x3x32\n",
        "flattened = Flatten()(pl) # flatten the shape\n",
        "\n",
        "\n",
        "# fusion:\n",
        "fused = tf.concat([lstm, flattened], axis=-1) # concatenate text features with images\n",
        "\n",
        "# multi-objectives (each is a multi-class classification)\n",
        "p_price = Dense(len_price, activation='softmax', name='price')(fused) # predict price label 0, 1, or 2\n",
        "p_type = Dense(len_type, activation='softmax', name='type')(fused) # predict rental category label [0-23]\n",
        "\n",
        "# model definition\n",
        "gru_model = keras.Model(\n",
        "    inputs={\n",
        "        'summary': in_text, # text inputs\n",
        "        'image': in_image # image inputs\n",
        "    },\n",
        "    outputs={\n",
        "        'price': p_price, # label 1: price category (0, 1, or 2)\n",
        "        'type': p_type, # label 2: type category [0-23]\n",
        "    },\n",
        ")\n",
        "\n",
        "# compile this new model including the GRU layer and print the architecture\n",
        "compile(gru_model)\n",
        "gru_model.summary()"
      ]
    },
    {
      "cell_type": "code",
      "execution_count": 26,
      "metadata": {
        "colab": {
          "base_uri": "https://localhost:8080/"
        },
        "id": "9qns4coE3e60",
        "outputId": "c1c57d6a-805e-4359-8421-1a9aa8d85596"
      },
      "outputs": [
        {
          "name": "stdout",
          "output_type": "stream",
          "text": [
            "Epoch 1/20\n",
            "367/367 [==============================] - 28s 65ms/step - loss: 1.0248 - price_loss: 0.8562 - type_loss: 1.1935 - price_sparse_categorical_accuracy: 0.6152 - type_sparse_categorical_accuracy: 0.7532 - val_loss: 0.9196 - val_price_loss: 0.8271 - val_type_loss: 1.0120 - val_price_sparse_categorical_accuracy: 0.6419 - val_type_sparse_categorical_accuracy: 0.7572\n",
            "Epoch 2/20\n",
            "367/367 [==============================] - 7s 20ms/step - loss: 0.9215 - price_loss: 0.8414 - type_loss: 1.0016 - price_sparse_categorical_accuracy: 0.6152 - type_sparse_categorical_accuracy: 0.7589 - val_loss: 0.9269 - val_price_loss: 0.8415 - val_type_loss: 1.0124 - val_price_sparse_categorical_accuracy: 0.6419 - val_type_sparse_categorical_accuracy: 0.7572\n",
            "Epoch 3/20\n",
            "367/367 [==============================] - 7s 19ms/step - loss: 0.9217 - price_loss: 0.8420 - type_loss: 1.0013 - price_sparse_categorical_accuracy: 0.6152 - type_sparse_categorical_accuracy: 0.7589 - val_loss: 0.9185 - val_price_loss: 0.8253 - val_type_loss: 1.0117 - val_price_sparse_categorical_accuracy: 0.6419 - val_type_sparse_categorical_accuracy: 0.7572\n",
            "Epoch 4/20\n",
            "367/367 [==============================] - 5s 14ms/step - loss: 0.9204 - price_loss: 0.8409 - type_loss: 0.9999 - price_sparse_categorical_accuracy: 0.6152 - type_sparse_categorical_accuracy: 0.7589 - val_loss: 0.9216 - val_price_loss: 0.8265 - val_type_loss: 1.0168 - val_price_sparse_categorical_accuracy: 0.6419 - val_type_sparse_categorical_accuracy: 0.7572\n",
            "Epoch 5/20\n",
            "367/367 [==============================] - 5s 14ms/step - loss: 0.9211 - price_loss: 0.8409 - type_loss: 1.0014 - price_sparse_categorical_accuracy: 0.6152 - type_sparse_categorical_accuracy: 0.7589 - val_loss: 0.9190 - val_price_loss: 0.8248 - val_type_loss: 1.0131 - val_price_sparse_categorical_accuracy: 0.6419 - val_type_sparse_categorical_accuracy: 0.7572\n",
            "Epoch 6/20\n",
            "367/367 [==============================] - 5s 13ms/step - loss: 0.9199 - price_loss: 0.8400 - type_loss: 0.9998 - price_sparse_categorical_accuracy: 0.6152 - type_sparse_categorical_accuracy: 0.7589 - val_loss: 0.9187 - val_price_loss: 0.8261 - val_type_loss: 1.0113 - val_price_sparse_categorical_accuracy: 0.6419 - val_type_sparse_categorical_accuracy: 0.7572\n",
            "Epoch 7/20\n",
            "367/367 [==============================] - 4s 12ms/step - loss: 0.9202 - price_loss: 0.8404 - type_loss: 1.0000 - price_sparse_categorical_accuracy: 0.6152 - type_sparse_categorical_accuracy: 0.7589 - val_loss: 0.9202 - val_price_loss: 0.8278 - val_type_loss: 1.0126 - val_price_sparse_categorical_accuracy: 0.6419 - val_type_sparse_categorical_accuracy: 0.7572\n",
            "Epoch 8/20\n",
            "367/367 [==============================] - 5s 14ms/step - loss: 0.9206 - price_loss: 0.8410 - type_loss: 1.0003 - price_sparse_categorical_accuracy: 0.6152 - type_sparse_categorical_accuracy: 0.7589 - val_loss: 0.9199 - val_price_loss: 0.8263 - val_type_loss: 1.0136 - val_price_sparse_categorical_accuracy: 0.6419 - val_type_sparse_categorical_accuracy: 0.7572\n",
            "Epoch 9/20\n",
            "367/367 [==============================] - 4s 11ms/step - loss: 0.9204 - price_loss: 0.8407 - type_loss: 1.0000 - price_sparse_categorical_accuracy: 0.6152 - type_sparse_categorical_accuracy: 0.7589 - val_loss: 0.9191 - val_price_loss: 0.8281 - val_type_loss: 1.0102 - val_price_sparse_categorical_accuracy: 0.6419 - val_type_sparse_categorical_accuracy: 0.7572\n",
            "Epoch 10/20\n",
            "367/367 [==============================] - 4s 11ms/step - loss: 0.9198 - price_loss: 0.8401 - type_loss: 0.9995 - price_sparse_categorical_accuracy: 0.6154 - type_sparse_categorical_accuracy: 0.7590 - val_loss: 0.9182 - val_price_loss: 0.8242 - val_type_loss: 1.0122 - val_price_sparse_categorical_accuracy: 0.6419 - val_type_sparse_categorical_accuracy: 0.7572\n",
            "Epoch 11/20\n",
            "367/367 [==============================] - 6s 16ms/step - loss: 0.9197 - price_loss: 0.8396 - type_loss: 0.9998 - price_sparse_categorical_accuracy: 0.6154 - type_sparse_categorical_accuracy: 0.7589 - val_loss: 0.9183 - val_price_loss: 0.8241 - val_type_loss: 1.0124 - val_price_sparse_categorical_accuracy: 0.6419 - val_type_sparse_categorical_accuracy: 0.7572\n",
            "Epoch 12/20\n",
            "367/367 [==============================] - 4s 10ms/step - loss: 0.9201 - price_loss: 0.8403 - type_loss: 0.9999 - price_sparse_categorical_accuracy: 0.6154 - type_sparse_categorical_accuracy: 0.7590 - val_loss: 0.9190 - val_price_loss: 0.8259 - val_type_loss: 1.0121 - val_price_sparse_categorical_accuracy: 0.6419 - val_type_sparse_categorical_accuracy: 0.7572\n",
            "Epoch 13/20\n",
            "367/367 [==============================] - 4s 11ms/step - loss: 0.9196 - price_loss: 0.8401 - type_loss: 0.9991 - price_sparse_categorical_accuracy: 0.6155 - type_sparse_categorical_accuracy: 0.7589 - val_loss: 0.9186 - val_price_loss: 0.8243 - val_type_loss: 1.0130 - val_price_sparse_categorical_accuracy: 0.6419 - val_type_sparse_categorical_accuracy: 0.7572\n",
            "Epoch 14/20\n",
            "367/367 [==============================] - 5s 13ms/step - loss: 0.9194 - price_loss: 0.8395 - type_loss: 0.9992 - price_sparse_categorical_accuracy: 0.6157 - type_sparse_categorical_accuracy: 0.7590 - val_loss: 0.9213 - val_price_loss: 0.8267 - val_type_loss: 1.0159 - val_price_sparse_categorical_accuracy: 0.6419 - val_type_sparse_categorical_accuracy: 0.7572\n",
            "Epoch 15/20\n",
            "367/367 [==============================] - 3s 9ms/step - loss: 0.9190 - price_loss: 0.8394 - type_loss: 0.9985 - price_sparse_categorical_accuracy: 0.6157 - type_sparse_categorical_accuracy: 0.7592 - val_loss: 0.9180 - val_price_loss: 0.8251 - val_type_loss: 1.0110 - val_price_sparse_categorical_accuracy: 0.6419 - val_type_sparse_categorical_accuracy: 0.7572\n",
            "Epoch 16/20\n",
            "367/367 [==============================] - 4s 11ms/step - loss: 0.9197 - price_loss: 0.8405 - type_loss: 0.9988 - price_sparse_categorical_accuracy: 0.6157 - type_sparse_categorical_accuracy: 0.7594 - val_loss: 0.9202 - val_price_loss: 0.8263 - val_type_loss: 1.0142 - val_price_sparse_categorical_accuracy: 0.6419 - val_type_sparse_categorical_accuracy: 0.7572\n",
            "Epoch 17/20\n",
            "367/367 [==============================] - 4s 12ms/step - loss: 0.9184 - price_loss: 0.8393 - type_loss: 0.9975 - price_sparse_categorical_accuracy: 0.6159 - type_sparse_categorical_accuracy: 0.7594 - val_loss: 0.9184 - val_price_loss: 0.8241 - val_type_loss: 1.0127 - val_price_sparse_categorical_accuracy: 0.6419 - val_type_sparse_categorical_accuracy: 0.7572\n",
            "Epoch 18/20\n",
            "367/367 [==============================] - 4s 11ms/step - loss: 0.9190 - price_loss: 0.8391 - type_loss: 0.9989 - price_sparse_categorical_accuracy: 0.6157 - type_sparse_categorical_accuracy: 0.7596 - val_loss: 0.9196 - val_price_loss: 0.8274 - val_type_loss: 1.0118 - val_price_sparse_categorical_accuracy: 0.6419 - val_type_sparse_categorical_accuracy: 0.7572\n",
            "Epoch 19/20\n",
            "367/367 [==============================] - 4s 10ms/step - loss: 0.9148 - price_loss: 0.8385 - type_loss: 0.9912 - price_sparse_categorical_accuracy: 0.6157 - type_sparse_categorical_accuracy: 0.7594 - val_loss: 0.9043 - val_price_loss: 0.8256 - val_type_loss: 0.9831 - val_price_sparse_categorical_accuracy: 0.6419 - val_type_sparse_categorical_accuracy: 0.7572\n",
            "Epoch 20/20\n",
            "367/367 [==============================] - 5s 13ms/step - loss: 0.8706 - price_loss: 0.8349 - type_loss: 0.9063 - price_sparse_categorical_accuracy: 0.6157 - type_sparse_categorical_accuracy: 0.7590 - val_loss: 0.8619 - val_price_loss: 0.8194 - val_type_loss: 0.9043 - val_price_sparse_categorical_accuracy: 0.6419 - val_type_sparse_categorical_accuracy: 0.7572\n"
          ]
        }
      ],
      "source": [
        "#train the model\n",
        "history = train(gru_model, callbacks)"
      ]
    },
    {
      "cell_type": "code",
      "execution_count": 27,
      "metadata": {
        "colab": {
          "base_uri": "https://localhost:8080/",
          "height": 428
        },
        "id": "l-QZm7RE3zBi",
        "outputId": "51fd329b-81ad-4349-ed6c-c51743422978"
      },
      "outputs": [
        {
          "data": {
            "image/png": "[encoded data removed]",
            "text/plain": [
              "<Figure size 1200x400 with 3 Axes>"
            ]
          },
          "metadata": {},
          "output_type": "display_data"
        }
      ],
      "source": [
        "visualize(history)"
      ]
    },
    {
      "cell_type": "code",
      "execution_count": 28,
      "metadata": {
        "colab": {
          "base_uri": "https://localhost:8080/"
        },
        "id": "tl-ltYPE5k_N",
        "outputId": "a1c3da94-677e-4479-beef-3894da1158a0"
      },
      "outputs": [
        {
          "name": "stdout",
          "output_type": "stream",
          "text": [
            "230/230 [==============================] - 1s 4ms/step\n",
            "[[0.56458646 0.36991054 0.06550295]\n",
            " [0.9442115  0.05065702 0.00513152]\n",
            " [0.76687866 0.18687929 0.04624208]\n",
            " ...\n",
            " [0.71599346 0.25830284 0.02570374]\n",
            " [0.9567259  0.03624928 0.00702484]\n",
            " [0.77077734 0.20296623 0.02625648]]\n",
            "[0 0 0 ... 0 0 0]\n"
          ]
        }
      ],
      "source": [
        "#start predicting the values of type and price using summary and image as inputs\n",
        "first_prediction = model.predict(\n",
        "    {\n",
        "        'summary': x_test_text,\n",
        "        'image': x_test_image\n",
        "    }\n",
        ")\n",
        "\n",
        "\n",
        "# probabilities\n",
        "first_prediction = first_prediction['price']\n",
        "print(first_prediction)\n",
        "\n",
        "# categories\n",
        "first_prediction = np.argmax(first_prediction, axis=1)\n",
        "print(first_prediction)"
      ]
    },
    {
      "cell_type": "code",
      "execution_count": 29,
      "metadata": {
        "id": "itx1udGN610d"
      },
      "outputs": [],
      "source": [
        "pd.DataFrame(\n",
        "    {'id': df_test['id'],\n",
        "     'price': first_prediction}\n",
        ").to_csv('trial3.csv', index=False)"
      ]
    },
    {
      "cell_type": "markdown",
      "metadata": {
        "id": "8dNCSu_47fCZ"
      },
      "source": [
        "#Trial 4\n",
        "## Text part\n",
        "- Embedding layer\n",
        "- averaged layer\n",
        "## Image part\n",
        "- Convolutional layer\n",
        "- Max pooling \n",
        "- Dropout = 0.30% \n",
        "- Flatten layer"
      ]
    },
    {
      "cell_type": "code",
      "execution_count": 31,
      "metadata": {
        "colab": {
          "base_uri": "https://localhost:8080/"
        },
        "id": "SMei71DV7mHb",
        "outputId": "66def433-4b26-4ced-e4e8-8632ab7684bd"
      },
      "outputs": [
        {
          "name": "stdout",
          "output_type": "stream",
          "text": [
            "Model: \"model_4\"\n",
            "__________________________________________________________________________________________________\n",
            " Layer (type)                   Output Shape         Param #     Connected to                     \n",
            "==================================================================================================\n",
            " input_10 (InputLayer)          [(None, 64, 64, 2)]  0           []                               \n",
            "                                                                                                  \n",
            " conv2d_4 (Conv2D)              (None, 49, 49, 32)   16416       ['input_10[0][0]']               \n",
            "                                                                                                  \n",
            " input_9 (InputLayer)           [(None, 100)]        0           []                               \n",
            "                                                                                                  \n",
            " max_pooling2d_4 (MaxPooling2D)  (None, 3, 3, 32)    0           ['conv2d_4[0][0]']               \n",
            "                                                                                                  \n",
            " embedding_4 (Embedding)        (None, 100, 100)     4000000     ['input_9[0][0]']                \n",
            "                                                                                                  \n",
            " dropout_2 (Dropout)            (None, 3, 3, 32)     0           ['max_pooling2d_4[0][0]']        \n",
            "                                                                                                  \n",
            " tf.math.reduce_mean_2 (TFOpLam  (None, 100)         0           ['embedding_4[0][0]']            \n",
            " bda)                                                                                             \n",
            "                                                                                                  \n",
            " flatten_4 (Flatten)            (None, 288)          0           ['dropout_2[0][0]']              \n",
            "                                                                                                  \n",
            " tf.concat_4 (TFOpLambda)       (None, 388)          0           ['tf.math.reduce_mean_2[0][0]',  \n",
            "                                                                  'flatten_4[0][0]']              \n",
            "                                                                                                  \n",
            " price (Dense)                  (None, 3)            1167        ['tf.concat_4[0][0]']            \n",
            "                                                                                                  \n",
            " type (Dense)                   (None, 24)           9336        ['tf.concat_4[0][0]']            \n",
            "                                                                                                  \n",
            "==================================================================================================\n",
            "Total params: 4,026,919\n",
            "Trainable params: 4,026,919\n",
            "Non-trainable params: 0\n",
            "__________________________________________________________________________________________________\n"
          ]
        }
      ],
      "source": [
        "# Two inputs, one for image and the other for text.\n",
        "in_text = keras.Input(batch_shape=(None, max_len))\n",
        "in_image = keras.Input(batch_shape=(None, 64, 64, 2))\n",
        "\n",
        "# text part\n",
        "embedded = keras.layers.Embedding(tokenizer.num_words, 100)(in_text)# embedding requires to encoded input data to integer encoded, so that each word is represented by a unique integer\n",
        "averaged = tf.reduce_mean(embedded, axis=1)  # reduce_mean that compute the mean value of embeddded\n",
        "\n",
        "\n",
        "# image part \n",
        "# Conv2D is a two-dimensional convolution layer that generates a tensor of outputs by winding a convolution kernel with the layers input\n",
        "# MaxPool2D used to reduces the dimensionality of images that is  by reducing the number of pixels in the output from the previous convolutional layer.\n",
        "cov = Conv2D(32, (16, 16))(in_image)  # convolutional layer with 32 filters, and a 16*16 mask, no padding\n",
        "pl = MaxPool2D((16, 16))(cov)  # max pooling with a 16*16 mask\n",
        "pl=Dropout(0.3)(pl) # 30% dropout\n",
        "flattened = Flatten()(pl) # flatten the shape to (288,)\n",
        "\n",
        "# fusion - combinig both the text and the image\n",
        "fused = tf.concat([averaged, flattened], axis=-1)\n",
        "\n",
        "# multi-task learning (each is a multi-class classification)\n",
        "# one dense layer for each task(type and price)\n",
        "p_type = Dense(len_type, activation='softmax', name='type')(fused)\n",
        "p_price = Dense(len_price, activation='softmax', name='price')(fused)\n",
        "\n",
        "\n",
        "# define model input/output using keys.\n",
        "model = keras.Model(\n",
        "    inputs={\n",
        "        'summary': in_text,\n",
        "        'image': in_image\n",
        "    },\n",
        "    outputs={\n",
        "        'type': p_type,\n",
        "        'price': p_price,\n",
        "    },\n",
        ")\n",
        "compile(model)\n",
        "model.summary()"
      ]
    },
    {
      "cell_type": "code",
      "execution_count": 32,
      "metadata": {
        "colab": {
          "base_uri": "https://localhost:8080/"
        },
        "id": "ZPKGP-Ry7zOa",
        "outputId": "ac5b8fd2-08d5-432a-b0a6-6c49feb6d6ed"
      },
      "outputs": [
        {
          "name": "stdout",
          "output_type": "stream",
          "text": [
            "Epoch 1/20\n",
            "367/367 [==============================] - 25s 61ms/step - loss: 1.0444 - price_loss: 0.8578 - type_loss: 1.2310 - price_sparse_categorical_accuracy: 0.6133 - type_sparse_categorical_accuracy: 0.7551 - val_loss: 0.9083 - val_price_loss: 0.8172 - val_type_loss: 0.9994 - val_price_sparse_categorical_accuracy: 0.6419 - val_type_sparse_categorical_accuracy: 0.7572\n",
            "Epoch 2/20\n",
            "367/367 [==============================] - 6s 17ms/step - loss: 0.8962 - price_loss: 0.8138 - type_loss: 0.9786 - price_sparse_categorical_accuracy: 0.6205 - type_sparse_categorical_accuracy: 0.7589 - val_loss: 0.8781 - val_price_loss: 0.7803 - val_type_loss: 0.9759 - val_price_sparse_categorical_accuracy: 0.6501 - val_type_sparse_categorical_accuracy: 0.7572\n",
            "Epoch 3/20\n",
            "367/367 [==============================] - 6s 15ms/step - loss: 0.8538 - price_loss: 0.7645 - type_loss: 0.9431 - price_sparse_categorical_accuracy: 0.6524 - type_sparse_categorical_accuracy: 0.7589 - val_loss: 0.8428 - val_price_loss: 0.7421 - val_type_loss: 0.9435 - val_price_sparse_categorical_accuracy: 0.6658 - val_type_sparse_categorical_accuracy: 0.7572\n",
            "Epoch 4/20\n",
            "367/367 [==============================] - 7s 18ms/step - loss: 0.8096 - price_loss: 0.7200 - type_loss: 0.8992 - price_sparse_categorical_accuracy: 0.6778 - type_sparse_categorical_accuracy: 0.7590 - val_loss: 0.8180 - val_price_loss: 0.7266 - val_type_loss: 0.9094 - val_price_sparse_categorical_accuracy: 0.6855 - val_type_sparse_categorical_accuracy: 0.7599\n",
            "Epoch 5/20\n",
            "367/367 [==============================] - 5s 13ms/step - loss: 0.7715 - price_loss: 0.6884 - type_loss: 0.8546 - price_sparse_categorical_accuracy: 0.6991 - type_sparse_categorical_accuracy: 0.7619 - val_loss: 0.7960 - val_price_loss: 0.7116 - val_type_loss: 0.8805 - val_price_sparse_categorical_accuracy: 0.6876 - val_type_sparse_categorical_accuracy: 0.7613\n",
            "Epoch 6/20\n",
            "367/367 [==============================] - 4s 10ms/step - loss: 0.7388 - price_loss: 0.6641 - type_loss: 0.8135 - price_sparse_categorical_accuracy: 0.7087 - type_sparse_categorical_accuracy: 0.7674 - val_loss: 0.7910 - val_price_loss: 0.7241 - val_type_loss: 0.8579 - val_price_sparse_categorical_accuracy: 0.6869 - val_type_sparse_categorical_accuracy: 0.7633\n",
            "Epoch 7/20\n",
            "367/367 [==============================] - 5s 13ms/step - loss: 0.7096 - price_loss: 0.6433 - type_loss: 0.7760 - price_sparse_categorical_accuracy: 0.7224 - type_sparse_categorical_accuracy: 0.7765 - val_loss: 0.7691 - val_price_loss: 0.7020 - val_type_loss: 0.8362 - val_price_sparse_categorical_accuracy: 0.6930 - val_type_sparse_categorical_accuracy: 0.7653\n",
            "Epoch 8/20\n",
            "367/367 [==============================] - 3s 9ms/step - loss: 0.6836 - price_loss: 0.6251 - type_loss: 0.7422 - price_sparse_categorical_accuracy: 0.7350 - type_sparse_categorical_accuracy: 0.7853 - val_loss: 0.7632 - val_price_loss: 0.7031 - val_type_loss: 0.8234 - val_price_sparse_categorical_accuracy: 0.6869 - val_type_sparse_categorical_accuracy: 0.7681\n",
            "Epoch 9/20\n",
            "367/367 [==============================] - 3s 9ms/step - loss: 0.6608 - price_loss: 0.6079 - type_loss: 0.7138 - price_sparse_categorical_accuracy: 0.7469 - type_sparse_categorical_accuracy: 0.7935 - val_loss: 0.7556 - val_price_loss: 0.7030 - val_type_loss: 0.8082 - val_price_sparse_categorical_accuracy: 0.6944 - val_type_sparse_categorical_accuracy: 0.7790\n",
            "Epoch 10/20\n",
            "367/367 [==============================] - 4s 11ms/step - loss: 0.6371 - price_loss: 0.5909 - type_loss: 0.6833 - price_sparse_categorical_accuracy: 0.7543 - type_sparse_categorical_accuracy: 0.8024 - val_loss: 0.7558 - val_price_loss: 0.7053 - val_type_loss: 0.8064 - val_price_sparse_categorical_accuracy: 0.6965 - val_type_sparse_categorical_accuracy: 0.7776\n",
            "Epoch 11/20\n",
            "367/367 [==============================] - 3s 9ms/step - loss: 0.6165 - price_loss: 0.5777 - type_loss: 0.6553 - price_sparse_categorical_accuracy: 0.7599 - type_sparse_categorical_accuracy: 0.8118 - val_loss: 0.7492 - val_price_loss: 0.7085 - val_type_loss: 0.7899 - val_price_sparse_categorical_accuracy: 0.6889 - val_type_sparse_categorical_accuracy: 0.7824\n",
            "Epoch 12/20\n",
            "367/367 [==============================] - 3s 10ms/step - loss: 0.5965 - price_loss: 0.5623 - type_loss: 0.6307 - price_sparse_categorical_accuracy: 0.7666 - type_sparse_categorical_accuracy: 0.8164 - val_loss: 0.7495 - val_price_loss: 0.7142 - val_type_loss: 0.7848 - val_price_sparse_categorical_accuracy: 0.6889 - val_type_sparse_categorical_accuracy: 0.7851\n",
            "Epoch 13/20\n",
            "367/367 [==============================] - 4s 11ms/step - loss: 0.5764 - price_loss: 0.5485 - type_loss: 0.6042 - price_sparse_categorical_accuracy: 0.7753 - type_sparse_categorical_accuracy: 0.8225 - val_loss: 0.7507 - val_price_loss: 0.7207 - val_type_loss: 0.7807 - val_price_sparse_categorical_accuracy: 0.6883 - val_type_sparse_categorical_accuracy: 0.7858\n",
            "Epoch 14/20\n",
            "367/367 [==============================] - 5s 12ms/step - loss: 0.5587 - price_loss: 0.5352 - type_loss: 0.5823 - price_sparse_categorical_accuracy: 0.7812 - type_sparse_categorical_accuracy: 0.8285 - val_loss: 0.7474 - val_price_loss: 0.7194 - val_type_loss: 0.7754 - val_price_sparse_categorical_accuracy: 0.6917 - val_type_sparse_categorical_accuracy: 0.7892\n",
            "Epoch 15/20\n",
            "367/367 [==============================] - 3s 7ms/step - loss: 0.5394 - price_loss: 0.5207 - type_loss: 0.5582 - price_sparse_categorical_accuracy: 0.7870 - type_sparse_categorical_accuracy: 0.8348 - val_loss: 0.7487 - val_price_loss: 0.7259 - val_type_loss: 0.7715 - val_price_sparse_categorical_accuracy: 0.6903 - val_type_sparse_categorical_accuracy: 0.7899\n",
            "Epoch 16/20\n",
            "367/367 [==============================] - 3s 8ms/step - loss: 0.5215 - price_loss: 0.5072 - type_loss: 0.5357 - price_sparse_categorical_accuracy: 0.7940 - type_sparse_categorical_accuracy: 0.8440 - val_loss: 0.7534 - val_price_loss: 0.7339 - val_type_loss: 0.7730 - val_price_sparse_categorical_accuracy: 0.6896 - val_type_sparse_categorical_accuracy: 0.7920\n",
            "Epoch 17/20\n",
            "367/367 [==============================] - 5s 14ms/step - loss: 0.5060 - price_loss: 0.4959 - type_loss: 0.5161 - price_sparse_categorical_accuracy: 0.8003 - type_sparse_categorical_accuracy: 0.8474 - val_loss: 0.7550 - val_price_loss: 0.7383 - val_type_loss: 0.7718 - val_price_sparse_categorical_accuracy: 0.6924 - val_type_sparse_categorical_accuracy: 0.7892\n"
          ]
        }
      ],
      "source": [
        "history = train(model, callbacks)"
      ]
    },
    {
      "cell_type": "code",
      "execution_count": 33,
      "metadata": {
        "colab": {
          "base_uri": "https://localhost:8080/",
          "height": 428
        },
        "id": "ojnwGp2_7_vg",
        "outputId": "3cd054ff-31a0-4816-fb48-bebd178bcadb"
      },
      "outputs": [
        {
          "data": {
            "image/png": "[encoded data removed]",
            "text/plain": [
              "<Figure size 1200x400 with 3 Axes>"
            ]
          },
          "metadata": {},
          "output_type": "display_data"
        }
      ],
      "source": [
        "visualize(history)"
      ]
    },
    {
      "cell_type": "markdown",
      "metadata": {
        "id": "o_k_0t9z9Zfi"
      },
      "source": [
        "looks like the model is vulnerable to overfitting but it has better scores than the last 2 trials"
      ]
    },
    {
      "cell_type": "code",
      "execution_count": 34,
      "metadata": {
        "colab": {
          "base_uri": "https://localhost:8080/"
        },
        "id": "f_ciiu4b8khi",
        "outputId": "f38050ed-89af-47e9-c715-e8677793d513"
      },
      "outputs": [
        {
          "name": "stdout",
          "output_type": "stream",
          "text": [
            "230/230 [==============================] - 1s 3ms/step\n",
            "[[0.5726945  0.34870058 0.07860492]\n",
            " [0.97450703 0.02184352 0.00364953]\n",
            " [0.80720156 0.14401366 0.04878482]\n",
            " ...\n",
            " [0.77701944 0.20148472 0.02149576]\n",
            " [0.98584056 0.01009754 0.00406194]\n",
            " [0.84737873 0.131181   0.02144025]]\n",
            "[0 0 0 ... 0 0 0]\n"
          ]
        }
      ],
      "source": [
        "#start predicting the values of type and price using summary and image as inputs\n",
        "first_prediction = model.predict(\n",
        "    {\n",
        "        'summary': x_test_text,\n",
        "        'image': x_test_image\n",
        "    }\n",
        ")\n",
        "\n",
        "\n",
        "# probabilities\n",
        "first_prediction = first_prediction['price']\n",
        "print(first_prediction)\n",
        "\n",
        "# categories\n",
        "first_prediction = np.argmax(first_prediction, axis=1)\n",
        "print(first_prediction)\n",
        "\n",
        "pd.DataFrame(\n",
        "    {'id': df_test['id'],\n",
        "     'price': first_prediction}\n",
        ").to_csv('trial4.csv', index=False)\n"
      ]
    },
    {
      "cell_type": "markdown",
      "metadata": {
        "id": "RdaWn4GM-Fjz"
      },
      "source": [
        "Observation: 67.282 on kaggle less by 0.2% than the first trial"
      ]
    },
    {
      "cell_type": "markdown",
      "metadata": {
        "id": "SwkRxJru-hHk"
      },
      "source": [
        "#Trial 5\n",
        "we can try using dropout on the trial 1 to improve on it"
      ]
    },
    {
      "cell_type": "code",
      "execution_count": 35,
      "metadata": {
        "colab": {
          "base_uri": "https://localhost:8080/"
        },
        "id": "LbPo8pG591fC",
        "outputId": "3ddd0b74-3028-41de-f5e5-4a1b66c02c62"
      },
      "outputs": [
        {
          "name": "stdout",
          "output_type": "stream",
          "text": [
            "Model: \"model_5\"\n",
            "__________________________________________________________________________________________________\n",
            " Layer (type)                   Output Shape         Param #     Connected to                     \n",
            "==================================================================================================\n",
            " input_12 (InputLayer)          [(None, 64, 64, 2)]  0           []                               \n",
            "                                                                                                  \n",
            " conv2d_5 (Conv2D)              (None, 49, 49, 32)   16416       ['input_12[0][0]']               \n",
            "                                                                                                  \n",
            " input_11 (InputLayer)          [(None, 100)]        0           []                               \n",
            "                                                                                                  \n",
            " dropout_4 (Dropout)            (None, 49, 49, 32)   0           ['conv2d_5[0][0]']               \n",
            "                                                                                                  \n",
            " embedding_5 (Embedding)        (None, 100, 100)     4000000     ['input_11[0][0]']               \n",
            "                                                                                                  \n",
            " max_pooling2d_5 (MaxPooling2D)  (None, 3, 3, 32)    0           ['dropout_4[0][0]']              \n",
            "                                                                                                  \n",
            " tf.math.reduce_mean_3 (TFOpLam  (None, 100)         0           ['embedding_5[0][0]']            \n",
            " bda)                                                                                             \n",
            "                                                                                                  \n",
            " flatten_5 (Flatten)            (None, 288)          0           ['max_pooling2d_5[0][0]']        \n",
            "                                                                                                  \n",
            " tf.concat_5 (TFOpLambda)       (None, 388)          0           ['tf.math.reduce_mean_3[0][0]',  \n",
            "                                                                  'flatten_5[0][0]']              \n",
            "                                                                                                  \n",
            " price (Dense)                  (None, 3)            1167        ['tf.concat_5[0][0]']            \n",
            "                                                                                                  \n",
            " type (Dense)                   (None, 24)           9336        ['tf.concat_5[0][0]']            \n",
            "                                                                                                  \n",
            "==================================================================================================\n",
            "Total params: 4,026,919\n",
            "Trainable params: 4,026,919\n",
            "Non-trainable params: 0\n",
            "__________________________________________________________________________________________________\n"
          ]
        }
      ],
      "source": [
        "in_text = keras.Input(batch_shape=(None, max_len)) # input shape for batches of text sequences (100 words long)\n",
        "in_image = keras.Input(batch_shape=(None, 64, 64, 2)) # input shape for batches of images (size 64x64x2)\n",
        "\n",
        "# text part\n",
        "embedded = keras.layers.Embedding(tokenizer.num_words, 100)(in_text) # get our word embeddings\n",
        "dropout= Dropout(.3)(embedded)\n",
        "averaged = tf.reduce_mean(embedded, axis=1) # compute the mean of the embeddings to reduce the rank of the embedding\n",
        "\n",
        "\n",
        "# image part\n",
        "cov = Conv2D(32, (16, 16))(in_image) # convolutional layer with 32 filters, and a 16x16 mask, no padding\n",
        "dropout= Dropout(.3)(cov)\n",
        "pl = MaxPool2D((16, 16))(dropout) # max pooling with a 16x16 mask, reducing the size to 3x3x32\n",
        "flattened = Flatten()(pl) # flatten the shape to (288,)\n",
        "\n",
        "\n",
        "# fusion:\n",
        "fused = tf.concat([averaged, flattened], axis=-1) # concatenate text features with images\n",
        "\n",
        "# multi-objectives (each is a multi-class classification)\n",
        "p_price = Dense(len_price, activation='softmax', name='price')(fused) # predict price label 0, 1, or 2\n",
        "p_type = Dense(len_type, activation='softmax', name='type')(fused) # predict rental category label [0-23]\n",
        "\n",
        "# model definition\n",
        "model = keras.Model(\n",
        "    inputs={\n",
        "        'summary': in_text, # text inputs\n",
        "        'image': in_image # image inputs\n",
        "    },\n",
        "    outputs={\n",
        "        'price': p_price, # label 1: price category (0, 1, or 2)\n",
        "        'type': p_type, # label 2: type category [0-23]\n",
        "    },\n",
        ")\n",
        "\n",
        "# compile model\n",
        "model.compile(\n",
        "    optimizer=Adam(), # using Adam for optimization\n",
        "    # measuring sparse categorical cross-entropy loss for both price and type labels\n",
        "    # sparse categorical cross-entropy is used since our labels are integers\n",
        "    loss={\n",
        "        'price': 'sparse_categorical_crossentropy',\n",
        "        'type': 'sparse_categorical_crossentropy',\n",
        "    },\n",
        "    # equally weight the loss w.r.t. both labels\n",
        "    loss_weights={\n",
        "        'price': 0.5,\n",
        "        'type': 0.5,       \n",
        "    },\n",
        "    # evaluation metric for this task is accuracy, so we measure sparse categorical accuracy for both targets\n",
        "    # again, our labels are categorical integers, so we use sparse categorical accuracy\n",
        "    metrics={\n",
        "        'price': ['SparseCategoricalAccuracy'],\n",
        "        'type': ['SparseCategoricalAccuracy'],\n",
        "    },\n",
        ")\n",
        "\n",
        "\n",
        "model.summary() # print the structure of the model defined above "
      ]
    },
    {
      "cell_type": "code",
      "execution_count": 36,
      "metadata": {
        "colab": {
          "base_uri": "https://localhost:8080/"
        },
        "id": "qJ_3ymUW_XWQ",
        "outputId": "f380a6ca-369a-457d-c513-1825e8cc13f8"
      },
      "outputs": [
        {
          "name": "stdout",
          "output_type": "stream",
          "text": [
            "Epoch 1/20\n",
            "92/92 [==============================] - 25s 246ms/step - loss: 1.4711 - price_loss: 0.9201 - type_loss: 2.0220 - price_sparse_categorical_accuracy: 0.5997 - type_sparse_categorical_accuracy: 0.7381 - val_loss: 0.9860 - val_price_loss: 0.8334 - val_type_loss: 1.1385 - val_price_sparse_categorical_accuracy: 0.6419 - val_type_sparse_categorical_accuracy: 0.7572\n",
            "Epoch 2/20\n",
            "92/92 [==============================] - 10s 103ms/step - loss: 0.9208 - price_loss: 0.8342 - type_loss: 1.0075 - price_sparse_categorical_accuracy: 0.6152 - type_sparse_categorical_accuracy: 0.7589 - val_loss: 0.9465 - val_price_loss: 0.8231 - val_type_loss: 1.0698 - val_price_sparse_categorical_accuracy: 0.6419 - val_type_sparse_categorical_accuracy: 0.7572\n",
            "Epoch 3/20\n",
            "92/92 [==============================] - 7s 78ms/step - loss: 0.9070 - price_loss: 0.8245 - type_loss: 0.9895 - price_sparse_categorical_accuracy: 0.6152 - type_sparse_categorical_accuracy: 0.7589 - val_loss: 0.9302 - val_price_loss: 0.8121 - val_type_loss: 1.0483 - val_price_sparse_categorical_accuracy: 0.6419 - val_type_sparse_categorical_accuracy: 0.7572\n",
            "Epoch 4/20\n",
            "92/92 [==============================] - 8s 82ms/step - loss: 0.8941 - price_loss: 0.8092 - type_loss: 0.9790 - price_sparse_categorical_accuracy: 0.6166 - type_sparse_categorical_accuracy: 0.7589 - val_loss: 0.9141 - val_price_loss: 0.7979 - val_type_loss: 1.0303 - val_price_sparse_categorical_accuracy: 0.6467 - val_type_sparse_categorical_accuracy: 0.7572\n",
            "Epoch 5/20\n",
            "92/92 [==============================] - 3s 30ms/step - loss: 0.8780 - price_loss: 0.7881 - type_loss: 0.9680 - price_sparse_categorical_accuracy: 0.6311 - type_sparse_categorical_accuracy: 0.7589 - val_loss: 0.8970 - val_price_loss: 0.7745 - val_type_loss: 1.0195 - val_price_sparse_categorical_accuracy: 0.6548 - val_type_sparse_categorical_accuracy: 0.7572\n",
            "Epoch 6/20\n",
            "92/92 [==============================] - 2s 23ms/step - loss: 0.8593 - price_loss: 0.7636 - type_loss: 0.9550 - price_sparse_categorical_accuracy: 0.6505 - type_sparse_categorical_accuracy: 0.7589 - val_loss: 0.8813 - val_price_loss: 0.7584 - val_type_loss: 1.0042 - val_price_sparse_categorical_accuracy: 0.6610 - val_type_sparse_categorical_accuracy: 0.7572\n",
            "Epoch 7/20\n",
            "92/92 [==============================] - 2s 25ms/step - loss: 0.8401 - price_loss: 0.7416 - type_loss: 0.9387 - price_sparse_categorical_accuracy: 0.6652 - type_sparse_categorical_accuracy: 0.7589 - val_loss: 0.8635 - val_price_loss: 0.7508 - val_type_loss: 0.9761 - val_price_sparse_categorical_accuracy: 0.6828 - val_type_sparse_categorical_accuracy: 0.7572\n",
            "Epoch 8/20\n",
            "92/92 [==============================] - 3s 38ms/step - loss: 0.8213 - price_loss: 0.7216 - type_loss: 0.9209 - price_sparse_categorical_accuracy: 0.6811 - type_sparse_categorical_accuracy: 0.7589 - val_loss: 0.8467 - val_price_loss: 0.7338 - val_type_loss: 0.9596 - val_price_sparse_categorical_accuracy: 0.6801 - val_type_sparse_categorical_accuracy: 0.7572\n",
            "Epoch 9/20\n",
            "92/92 [==============================] - 2s 23ms/step - loss: 0.8036 - price_loss: 0.7050 - type_loss: 0.9023 - price_sparse_categorical_accuracy: 0.6884 - type_sparse_categorical_accuracy: 0.7590 - val_loss: 0.8358 - val_price_loss: 0.7242 - val_type_loss: 0.9473 - val_price_sparse_categorical_accuracy: 0.6814 - val_type_sparse_categorical_accuracy: 0.7585\n",
            "Epoch 10/20\n",
            "92/92 [==============================] - 2s 23ms/step - loss: 0.7858 - price_loss: 0.6896 - type_loss: 0.8820 - price_sparse_categorical_accuracy: 0.6956 - type_sparse_categorical_accuracy: 0.7596 - val_loss: 0.8239 - val_price_loss: 0.7177 - val_type_loss: 0.9300 - val_price_sparse_categorical_accuracy: 0.6814 - val_type_sparse_categorical_accuracy: 0.7599\n",
            "Epoch 11/20\n",
            "92/92 [==============================] - 2s 23ms/step - loss: 0.7689 - price_loss: 0.6754 - type_loss: 0.8625 - price_sparse_categorical_accuracy: 0.7046 - type_sparse_categorical_accuracy: 0.7613 - val_loss: 0.8141 - val_price_loss: 0.7146 - val_type_loss: 0.9136 - val_price_sparse_categorical_accuracy: 0.6876 - val_type_sparse_categorical_accuracy: 0.7606\n",
            "Epoch 12/20\n",
            "92/92 [==============================] - 2s 20ms/step - loss: 0.7530 - price_loss: 0.6629 - type_loss: 0.8431 - price_sparse_categorical_accuracy: 0.7118 - type_sparse_categorical_accuracy: 0.7630 - val_loss: 0.8041 - val_price_loss: 0.7085 - val_type_loss: 0.8996 - val_price_sparse_categorical_accuracy: 0.6910 - val_type_sparse_categorical_accuracy: 0.7619\n",
            "Epoch 13/20\n",
            "92/92 [==============================] - 2s 19ms/step - loss: 0.7375 - price_loss: 0.6513 - type_loss: 0.8236 - price_sparse_categorical_accuracy: 0.7208 - type_sparse_categorical_accuracy: 0.7654 - val_loss: 0.7946 - val_price_loss: 0.7065 - val_type_loss: 0.8828 - val_price_sparse_categorical_accuracy: 0.6903 - val_type_sparse_categorical_accuracy: 0.7626\n",
            "Epoch 14/20\n",
            "92/92 [==============================] - 2s 25ms/step - loss: 0.7232 - price_loss: 0.6406 - type_loss: 0.8059 - price_sparse_categorical_accuracy: 0.7280 - type_sparse_categorical_accuracy: 0.7691 - val_loss: 0.7881 - val_price_loss: 0.7047 - val_type_loss: 0.8715 - val_price_sparse_categorical_accuracy: 0.6903 - val_type_sparse_categorical_accuracy: 0.7640\n",
            "Epoch 15/20\n",
            "92/92 [==============================] - 3s 28ms/step - loss: 0.7093 - price_loss: 0.6311 - type_loss: 0.7875 - price_sparse_categorical_accuracy: 0.7319 - type_sparse_categorical_accuracy: 0.7720 - val_loss: 0.7858 - val_price_loss: 0.7028 - val_type_loss: 0.8689 - val_price_sparse_categorical_accuracy: 0.6910 - val_type_sparse_categorical_accuracy: 0.7633\n",
            "Epoch 16/20\n",
            "92/92 [==============================] - 2s 26ms/step - loss: 0.6959 - price_loss: 0.6213 - type_loss: 0.7704 - price_sparse_categorical_accuracy: 0.7399 - type_sparse_categorical_accuracy: 0.7751 - val_loss: 0.7796 - val_price_loss: 0.7036 - val_type_loss: 0.8555 - val_price_sparse_categorical_accuracy: 0.6889 - val_type_sparse_categorical_accuracy: 0.7660\n",
            "Epoch 17/20\n",
            "92/92 [==============================] - 2s 21ms/step - loss: 0.6834 - price_loss: 0.6135 - type_loss: 0.7533 - price_sparse_categorical_accuracy: 0.7433 - type_sparse_categorical_accuracy: 0.7799 - val_loss: 0.7739 - val_price_loss: 0.7030 - val_type_loss: 0.8449 - val_price_sparse_categorical_accuracy: 0.6951 - val_type_sparse_categorical_accuracy: 0.7667\n",
            "Epoch 18/20\n",
            "92/92 [==============================] - 1s 15ms/step - loss: 0.6715 - price_loss: 0.6049 - type_loss: 0.7382 - price_sparse_categorical_accuracy: 0.7466 - type_sparse_categorical_accuracy: 0.7855 - val_loss: 0.7693 - val_price_loss: 0.7025 - val_type_loss: 0.8361 - val_price_sparse_categorical_accuracy: 0.6876 - val_type_sparse_categorical_accuracy: 0.7674\n",
            "Epoch 19/20\n",
            "92/92 [==============================] - 2s 18ms/step - loss: 0.6588 - price_loss: 0.5955 - type_loss: 0.7221 - price_sparse_categorical_accuracy: 0.7549 - type_sparse_categorical_accuracy: 0.7899 - val_loss: 0.7700 - val_price_loss: 0.7086 - val_type_loss: 0.8314 - val_price_sparse_categorical_accuracy: 0.6855 - val_type_sparse_categorical_accuracy: 0.7708\n",
            "Epoch 20/20\n",
            "92/92 [==============================] - 2s 21ms/step - loss: 0.6467 - price_loss: 0.5872 - type_loss: 0.7062 - price_sparse_categorical_accuracy: 0.7575 - type_sparse_categorical_accuracy: 0.7944 - val_loss: 0.7674 - val_price_loss: 0.7139 - val_type_loss: 0.8209 - val_price_sparse_categorical_accuracy: 0.6903 - val_type_sparse_categorical_accuracy: 0.7722\n"
          ]
        }
      ],
      "source": [
        "# increasing the batch size to 64 to improve training speed, still 20 epochs\n",
        "history = train(model, callbacks, 20, 64) # using a batch size of 64 to speed up training"
      ]
    },
    {
      "cell_type": "code",
      "execution_count": 37,
      "metadata": {
        "colab": {
          "base_uri": "https://localhost:8080/",
          "height": 428
        },
        "id": "kORpYjJE_cfO",
        "outputId": "1e7e32ae-9668-4722-fc53-2ce682d01f36"
      },
      "outputs": [
        {
          "data": {
            "image/png": "[encoded data removed]",
            "text/plain": [
              "<Figure size 1200x400 with 3 Axes>"
            ]
          },
          "metadata": {},
          "output_type": "display_data"
        }
      ],
      "source": [
        "visualize(history)"
      ]
    },
    {
      "cell_type": "code",
      "execution_count": 38,
      "metadata": {
        "colab": {
          "base_uri": "https://localhost:8080/"
        },
        "id": "rkUarKmx_huD",
        "outputId": "1b0d609b-a276-4c75-ffd6-30cba7332520"
      },
      "outputs": [
        {
          "name": "stdout",
          "output_type": "stream",
          "text": [
            "230/230 [==============================] - 1s 2ms/step\n",
            "[[0.58499986 0.33604893 0.0789512 ]\n",
            " [0.90281224 0.083035   0.01415276]\n",
            " [0.746418   0.19317791 0.06040416]\n",
            " ...\n",
            " [0.7077556  0.25357807 0.03866631]\n",
            " [0.92564297 0.05480413 0.01955283]\n",
            " [0.7008837  0.24961407 0.0495022 ]]\n",
            "[0 0 0 ... 0 0 0]\n"
          ]
        }
      ],
      "source": [
        "#start predicting the values of type and price using summary and image as inputs\n",
        "first_prediction = model.predict(\n",
        "    {\n",
        "        'summary': x_test_text,\n",
        "        'image': x_test_image\n",
        "    }\n",
        ")\n",
        "\n",
        "\n",
        "# probabilities\n",
        "first_prediction = first_prediction['price']\n",
        "print(first_prediction)\n",
        "\n",
        "# categories\n",
        "first_prediction = np.argmax(first_prediction, axis=1)\n",
        "print(first_prediction)\n",
        "\n",
        "pd.DataFrame(\n",
        "    {'id': df_test['id'],\n",
        "     'price': first_prediction}\n",
        ").to_csv('trial5.csv', index=False)\n"
      ]
    },
    {
      "cell_type": "markdown",
      "metadata": {
        "id": "ulS2PmYu_tdu"
      },
      "source": [
        "#Trial 6\n",
        "try using text only with no images"
      ]
    },
    {
      "cell_type": "code",
      "execution_count": 39,
      "metadata": {
        "colab": {
          "base_uri": "https://localhost:8080/"
        },
        "id": "mSE22WNi_n0z",
        "outputId": "ae89d72c-03a4-4b24-b39b-37f4c23844e2"
      },
      "outputs": [
        {
          "name": "stdout",
          "output_type": "stream",
          "text": [
            "Model: \"model_6\"\n",
            "__________________________________________________________________________________________________\n",
            " Layer (type)                   Output Shape         Param #     Connected to                     \n",
            "==================================================================================================\n",
            " input_13 (InputLayer)          [(None, 100)]        0           []                               \n",
            "                                                                                                  \n",
            " embedding_6 (Embedding)        (None, 100, 100)     4000000     ['input_13[0][0]']               \n",
            "                                                                                                  \n",
            " tf.math.reduce_mean_4 (TFOpLam  (None, 100)         0           ['embedding_6[0][0]']            \n",
            " bda)                                                                                             \n",
            "                                                                                                  \n",
            " dropout_5 (Dropout)            (None, 100)          0           ['tf.math.reduce_mean_4[0][0]']  \n",
            "                                                                                                  \n",
            " price (Dense)                  (None, 3)            303         ['dropout_5[0][0]']              \n",
            "                                                                                                  \n",
            " type (Dense)                   (None, 24)           2424        ['dropout_5[0][0]']              \n",
            "                                                                                                  \n",
            "==================================================================================================\n",
            "Total params: 4,002,727\n",
            "Trainable params: 4,002,727\n",
            "Non-trainable params: 0\n",
            "__________________________________________________________________________________________________\n"
          ]
        }
      ],
      "source": [
        "# Two inputs, one for image and the other for text.\n",
        "in_text = keras.Input(batch_shape=(None, max_len))\n",
        "\n",
        "# text part\n",
        "embedded = keras.layers.Embedding(tokenizer.num_words, 100)(in_text) # embedding requires to encoded input data to integer encoded, so that each word is represented by a unique integer\n",
        "averaged = tf.reduce_mean(embedded, axis=1)  # reduce_mean that compute the mean value of embeddded\n",
        "averaged= Dropout(0.5)(averaged)# 50% dropout\n",
        "\n",
        "\n",
        "\n",
        "\n",
        "# fusion - combinig both the text and the image\n",
        "fused = averaged\n",
        "\n",
        "# multi-task learning (each is a multi-class classification)\n",
        "# one dense layer for each task(type and price)\n",
        "p_type = Dense(len_type, activation='softmax', name='type')(fused)\n",
        "p_price = Dense(len_price, activation='softmax', name='price')(fused)\n",
        "\n",
        "\n",
        "# define model input/output using keys.\n",
        "model = keras.Model(\n",
        "    inputs={\n",
        "        'summary': in_text    },\n",
        "    outputs={\n",
        "        'type': p_type,\n",
        "        'price': p_price,\n",
        "    },\n",
        ")\n",
        "\n",
        "\n",
        "# compile model with optimizer, loss values for each task, loss \n",
        "# weights for each task.\n",
        "compile(model)\n",
        "\n",
        "\n",
        "model.summary()"
      ]
    },
    {
      "cell_type": "code",
      "execution_count": 40,
      "metadata": {
        "colab": {
          "base_uri": "https://localhost:8080/"
        },
        "id": "iF1PepBLActd",
        "outputId": "208be5ab-5f5a-46b3-abcd-7bc68a3ead51"
      },
      "outputs": [
        {
          "name": "stdout",
          "output_type": "stream",
          "text": [
            "Epoch 1/20\n"
          ]
        },
        {
          "name": "stderr",
          "output_type": "stream",
          "text": [
            "/usr/local/lib/python3.9/dist-packages/keras/engine/functional.py:639: UserWarning: Input dict contained keys ['image'] which did not match any model input. They will be ignored by the model.\n",
            "  inputs = self._flatten_to_reference_inputs(inputs)\n"
          ]
        },
        {
          "name": "stdout",
          "output_type": "stream",
          "text": [
            "367/367 [==============================] - 34s 89ms/step - loss: 1.1773 - price_loss: 0.8802 - type_loss: 1.4744 - price_sparse_categorical_accuracy: 0.6031 - type_sparse_categorical_accuracy: 0.7473 - val_loss: 0.9098 - val_price_loss: 0.8181 - val_type_loss: 1.0014 - val_price_sparse_categorical_accuracy: 0.6419 - val_type_sparse_categorical_accuracy: 0.7572\n",
            "Epoch 2/20\n",
            "367/367 [==============================] - 9s 23ms/step - loss: 0.9115 - price_loss: 0.8306 - type_loss: 0.9925 - price_sparse_categorical_accuracy: 0.6159 - type_sparse_categorical_accuracy: 0.7589 - val_loss: 0.8920 - val_price_loss: 0.8033 - val_type_loss: 0.9808 - val_price_sparse_categorical_accuracy: 0.6419 - val_type_sparse_categorical_accuracy: 0.7572\n",
            "Epoch 3/20\n",
            "367/367 [==============================] - 5s 14ms/step - loss: 0.8957 - price_loss: 0.8155 - type_loss: 0.9758 - price_sparse_categorical_accuracy: 0.6184 - type_sparse_categorical_accuracy: 0.7589 - val_loss: 0.8789 - val_price_loss: 0.7935 - val_type_loss: 0.9644 - val_price_sparse_categorical_accuracy: 0.6473 - val_type_sparse_categorical_accuracy: 0.7572\n",
            "Epoch 4/20\n",
            "367/367 [==============================] - 3s 9ms/step - loss: 0.8753 - price_loss: 0.7973 - type_loss: 0.9533 - price_sparse_categorical_accuracy: 0.6290 - type_sparse_categorical_accuracy: 0.7589 - val_loss: 0.8619 - val_price_loss: 0.7750 - val_type_loss: 0.9488 - val_price_sparse_categorical_accuracy: 0.6555 - val_type_sparse_categorical_accuracy: 0.7572\n",
            "Epoch 5/20\n",
            "367/367 [==============================] - 3s 7ms/step - loss: 0.8527 - price_loss: 0.7735 - type_loss: 0.9319 - price_sparse_categorical_accuracy: 0.6480 - type_sparse_categorical_accuracy: 0.7589 - val_loss: 0.8443 - val_price_loss: 0.7571 - val_type_loss: 0.9315 - val_price_sparse_categorical_accuracy: 0.6658 - val_type_sparse_categorical_accuracy: 0.7572\n",
            "Epoch 6/20\n",
            "367/367 [==============================] - 5s 13ms/step - loss: 0.8315 - price_loss: 0.7529 - type_loss: 0.9100 - price_sparse_categorical_accuracy: 0.6578 - type_sparse_categorical_accuracy: 0.7589 - val_loss: 0.8264 - val_price_loss: 0.7397 - val_type_loss: 0.9131 - val_price_sparse_categorical_accuracy: 0.6658 - val_type_sparse_categorical_accuracy: 0.7572\n",
            "Epoch 7/20\n",
            "367/367 [==============================] - 5s 15ms/step - loss: 0.8107 - price_loss: 0.7344 - type_loss: 0.8869 - price_sparse_categorical_accuracy: 0.6744 - type_sparse_categorical_accuracy: 0.7589 - val_loss: 0.8124 - val_price_loss: 0.7272 - val_type_loss: 0.8975 - val_price_sparse_categorical_accuracy: 0.6787 - val_type_sparse_categorical_accuracy: 0.7572\n",
            "Epoch 8/20\n",
            "367/367 [==============================] - 5s 12ms/step - loss: 0.7909 - price_loss: 0.7155 - type_loss: 0.8663 - price_sparse_categorical_accuracy: 0.6836 - type_sparse_categorical_accuracy: 0.7596 - val_loss: 0.8015 - val_price_loss: 0.7203 - val_type_loss: 0.8828 - val_price_sparse_categorical_accuracy: 0.6849 - val_type_sparse_categorical_accuracy: 0.7592\n",
            "Epoch 9/20\n",
            "367/367 [==============================] - 4s 10ms/step - loss: 0.7710 - price_loss: 0.7003 - type_loss: 0.8417 - price_sparse_categorical_accuracy: 0.6940 - type_sparse_categorical_accuracy: 0.7616 - val_loss: 0.7896 - val_price_loss: 0.7122 - val_type_loss: 0.8669 - val_price_sparse_categorical_accuracy: 0.6849 - val_type_sparse_categorical_accuracy: 0.7606\n",
            "Epoch 10/20\n",
            "367/367 [==============================] - 3s 9ms/step - loss: 0.7536 - price_loss: 0.6866 - type_loss: 0.8205 - price_sparse_categorical_accuracy: 0.6974 - type_sparse_categorical_accuracy: 0.7657 - val_loss: 0.7812 - val_price_loss: 0.7076 - val_type_loss: 0.8548 - val_price_sparse_categorical_accuracy: 0.6869 - val_type_sparse_categorical_accuracy: 0.7626\n",
            "Epoch 11/20\n",
            "367/367 [==============================] - 3s 7ms/step - loss: 0.7345 - price_loss: 0.6682 - type_loss: 0.8009 - price_sparse_categorical_accuracy: 0.7080 - type_sparse_categorical_accuracy: 0.7689 - val_loss: 0.7798 - val_price_loss: 0.7070 - val_type_loss: 0.8525 - val_price_sparse_categorical_accuracy: 0.6903 - val_type_sparse_categorical_accuracy: 0.7626\n",
            "Epoch 12/20\n",
            "367/367 [==============================] - 3s 7ms/step - loss: 0.7196 - price_loss: 0.6606 - type_loss: 0.7786 - price_sparse_categorical_accuracy: 0.7135 - type_sparse_categorical_accuracy: 0.7737 - val_loss: 0.7689 - val_price_loss: 0.7045 - val_type_loss: 0.8333 - val_price_sparse_categorical_accuracy: 0.6903 - val_type_sparse_categorical_accuracy: 0.7667\n",
            "Epoch 13/20\n",
            "367/367 [==============================] - 3s 8ms/step - loss: 0.7059 - price_loss: 0.6504 - type_loss: 0.7614 - price_sparse_categorical_accuracy: 0.7174 - type_sparse_categorical_accuracy: 0.7807 - val_loss: 0.7620 - val_price_loss: 0.7001 - val_type_loss: 0.8239 - val_price_sparse_categorical_accuracy: 0.6944 - val_type_sparse_categorical_accuracy: 0.7653\n",
            "Epoch 14/20\n",
            "367/367 [==============================] - 3s 9ms/step - loss: 0.6885 - price_loss: 0.6410 - type_loss: 0.7361 - price_sparse_categorical_accuracy: 0.7256 - type_sparse_categorical_accuracy: 0.7886 - val_loss: 0.7558 - val_price_loss: 0.6984 - val_type_loss: 0.8131 - val_price_sparse_categorical_accuracy: 0.6930 - val_type_sparse_categorical_accuracy: 0.7769\n",
            "Epoch 15/20\n",
            "367/367 [==============================] - 2s 7ms/step - loss: 0.6775 - price_loss: 0.6330 - type_loss: 0.7219 - price_sparse_categorical_accuracy: 0.7276 - type_sparse_categorical_accuracy: 0.7937 - val_loss: 0.7544 - val_price_loss: 0.6983 - val_type_loss: 0.8105 - val_price_sparse_categorical_accuracy: 0.6937 - val_type_sparse_categorical_accuracy: 0.7769\n",
            "Epoch 16/20\n",
            "367/367 [==============================] - 2s 7ms/step - loss: 0.6629 - price_loss: 0.6182 - type_loss: 0.7076 - price_sparse_categorical_accuracy: 0.7338 - type_sparse_categorical_accuracy: 0.7957 - val_loss: 0.7500 - val_price_loss: 0.6990 - val_type_loss: 0.8009 - val_price_sparse_categorical_accuracy: 0.6958 - val_type_sparse_categorical_accuracy: 0.7810\n",
            "Epoch 17/20\n",
            "367/367 [==============================] - 3s 7ms/step - loss: 0.6464 - price_loss: 0.6080 - type_loss: 0.6849 - price_sparse_categorical_accuracy: 0.7415 - type_sparse_categorical_accuracy: 0.8027 - val_loss: 0.7458 - val_price_loss: 0.6992 - val_type_loss: 0.7924 - val_price_sparse_categorical_accuracy: 0.6896 - val_type_sparse_categorical_accuracy: 0.7824\n",
            "Epoch 18/20\n",
            "367/367 [==============================] - 2s 7ms/step - loss: 0.6333 - price_loss: 0.5984 - type_loss: 0.6683 - price_sparse_categorical_accuracy: 0.7464 - type_sparse_categorical_accuracy: 0.8046 - val_loss: 0.7434 - val_price_loss: 0.7012 - val_type_loss: 0.7857 - val_price_sparse_categorical_accuracy: 0.6944 - val_type_sparse_categorical_accuracy: 0.7838\n",
            "Epoch 19/20\n",
            "367/367 [==============================] - 3s 9ms/step - loss: 0.6219 - price_loss: 0.5946 - type_loss: 0.6491 - price_sparse_categorical_accuracy: 0.7485 - type_sparse_categorical_accuracy: 0.8108 - val_loss: 0.7404 - val_price_loss: 0.7022 - val_type_loss: 0.7786 - val_price_sparse_categorical_accuracy: 0.6862 - val_type_sparse_categorical_accuracy: 0.7844\n",
            "Epoch 20/20\n",
            "367/367 [==============================] - 2s 6ms/step - loss: 0.6077 - price_loss: 0.5824 - type_loss: 0.6331 - price_sparse_categorical_accuracy: 0.7529 - type_sparse_categorical_accuracy: 0.8148 - val_loss: 0.7418 - val_price_loss: 0.7043 - val_type_loss: 0.7794 - val_price_sparse_categorical_accuracy: 0.6896 - val_type_sparse_categorical_accuracy: 0.7858\n"
          ]
        }
      ],
      "source": [
        "history = train(model, callbacks)"
      ]
    },
    {
      "cell_type": "code",
      "execution_count": 41,
      "metadata": {
        "colab": {
          "base_uri": "https://localhost:8080/",
          "height": 428
        },
        "id": "8n9Td2NhBdQa",
        "outputId": "da8bb159-1ff3-4c85-c6cf-1a1853ec3884"
      },
      "outputs": [
        {
          "data": {
            "image/png": "[encoded data removed]",
            "text/plain": [
              "<Figure size 1200x400 with 3 Axes>"
            ]
          },
          "metadata": {},
          "output_type": "display_data"
        }
      ],
      "source": [
        "visualize(history)"
      ]
    },
    {
      "cell_type": "code",
      "execution_count": 42,
      "metadata": {
        "colab": {
          "base_uri": "https://localhost:8080/"
        },
        "id": "Vv49aMOqBfSi",
        "outputId": "b618d439-4e7b-4ad8-c1d7-d639c9940a9d"
      },
      "outputs": [
        {
          "name": "stdout",
          "output_type": "stream",
          "text": [
            " 38/230 [===>..........................] - ETA: 0s"
          ]
        },
        {
          "name": "stderr",
          "output_type": "stream",
          "text": [
            "/usr/local/lib/python3.9/dist-packages/keras/engine/functional.py:639: UserWarning: Input dict contained keys ['image'] which did not match any model input. They will be ignored by the model.\n",
            "  inputs = self._flatten_to_reference_inputs(inputs)\n"
          ]
        },
        {
          "name": "stdout",
          "output_type": "stream",
          "text": [
            "230/230 [==============================] - 1s 3ms/step\n",
            "[[0.6528858  0.2867761  0.06033806]\n",
            " [0.9507763  0.04320981 0.00601388]\n",
            " [0.81205666 0.14507645 0.04286682]\n",
            " ...\n",
            " [0.7922706  0.18409507 0.02363431]\n",
            " [0.9594676  0.0319555  0.0085769 ]\n",
            " [0.8015664  0.17241985 0.02601373]]\n",
            "[0 0 0 ... 0 0 0]\n"
          ]
        }
      ],
      "source": [
        "#start predicting the values of type and price using summary and image as inputs\n",
        "first_prediction = model.predict(\n",
        "    {\n",
        "        'summary': x_test_text,\n",
        "        'image': x_test_image\n",
        "    }\n",
        ")\n",
        "\n",
        "\n",
        "# probabilities\n",
        "first_prediction = first_prediction['price']\n",
        "print(first_prediction)\n",
        "\n",
        "# categories\n",
        "first_prediction = np.argmax(first_prediction, axis=1)\n",
        "print(first_prediction)\n",
        "\n",
        "pd.DataFrame(\n",
        "    {'id': df_test['id'],\n",
        "     'price': first_prediction}\n",
        ").to_csv('trial6.csv', index=False)\n"
      ]
    },
    {
      "cell_type": "markdown",
      "metadata": {
        "id": "kMKCVFrhBkSf"
      },
      "source": [
        "#Bonus Trial\n",
        "### i used VGG pretrained model"
      ]
    },
    {
      "cell_type": "code",
      "execution_count": 44,
      "metadata": {
        "id": "qvw2GsDDBi0C"
      },
      "outputs": [],
      "source": [
        "from keras.applications.vgg16 import VGG16\n",
        "from tensorflow.keras.layers import GlobalAveragePooling2D, Rescaling\n",
        "\n"
      ]
    },
    {
      "cell_type": "code",
      "execution_count": 45,
      "metadata": {
        "colab": {
          "base_uri": "https://localhost:8080/"
        },
        "id": "4gHFh6KvCn9q",
        "outputId": "c64c2f16-d936-47dd-c602-200164cd226a"
      },
      "outputs": [
        {
          "name": "stdout",
          "output_type": "stream",
          "text": [
            "Downloading data from https://storage.googleapis.com/tensorflow/keras-applications/vgg16/vgg16_weights_tf_dim_ordering_tf_kernels_notop.h5\n",
            "58889256/58889256 [==============================] - 1s 0us/step\n"
          ]
        }
      ],
      "source": [
        "# VGG needs input images with 3 channels, so I'll extend the training data to have 3 channels and appear RGB\n",
        "# x_tr_image is currently (6101, 64, 64, 2)\n",
        "rgb_tr = x_tr_image[:,:,:,0]\n",
        "rgb_vl = x_vl_image[:,:,:,0]\n",
        "# rgb.shape # now it's (6101, 64, 64)\n",
        "rgb_tr = np.repeat(rgb_tr[..., np.newaxis], 3, -1) # repeat the same values across 3 channels\n",
        "rgb_vl = np.repeat(rgb_vl[..., np.newaxis], 3, -1) # repeat the same values across 3 channel\n",
        "\n",
        "\n",
        "\n",
        "# bringing VGG16 into the mix\n",
        "base = VGG16(include_top=False, input_shape=(64,64,3)) # instantiating the base model we wish to tune\n",
        "base.trainable = False # freezing the weights"
      ]
    },
    {
      "cell_type": "code",
      "execution_count": 48,
      "metadata": {
        "colab": {
          "base_uri": "https://localhost:8080/"
        },
        "id": "-xYBT-27GlVH",
        "outputId": "37b49515-8b22-49c4-bd53-574f015998df"
      },
      "outputs": [
        {
          "name": "stdout",
          "output_type": "stream",
          "text": [
            "Model: \"model_7\"\n",
            "__________________________________________________________________________________________________\n",
            " Layer (type)                   Output Shape         Param #     Connected to                     \n",
            "==================================================================================================\n",
            " input_18 (InputLayer)          [(None, 64, 64, 3)]  0           []                               \n",
            "                                                                                                  \n",
            " rescaling (Rescaling)          (None, 64, 64, 3)    0           ['input_18[0][0]']               \n",
            "                                                                                                  \n",
            " input_17 (InputLayer)          [(None, 100)]        0           []                               \n",
            "                                                                                                  \n",
            " vgg16 (Functional)             (None, 2, 2, 512)    14714688    ['rescaling[0][0]']              \n",
            "                                                                                                  \n",
            " embedding_8 (Embedding)        (None, 100, 100)     4000000     ['input_17[0][0]']               \n",
            "                                                                                                  \n",
            " global_average_pooling2d (Glob  (None, 512)         0           ['vgg16[0][0]']                  \n",
            " alAveragePooling2D)                                                                              \n",
            "                                                                                                  \n",
            " multi_head_attention (MultiHea  (None, 100, 100)    1712        ['embedding_8[0][0]',            \n",
            " dAttention)                                                      'embedding_8[0][0]']            \n",
            "                                                                                                  \n",
            " dropout_6 (Dropout)            (None, 512)          0           ['global_average_pooling2d[0][0]'\n",
            "                                                                 ]                                \n",
            "                                                                                                  \n",
            " bidirectional (Bidirectional)  (None, 100)          45600       ['multi_head_attention[0][0]']   \n",
            "                                                                                                  \n",
            " flatten_6 (Flatten)            (None, 512)          0           ['dropout_6[0][0]']              \n",
            "                                                                                                  \n",
            " tf.concat_6 (TFOpLambda)       (None, 612)          0           ['bidirectional[0][0]',          \n",
            "                                                                  'flatten_6[0][0]']              \n",
            "                                                                                                  \n",
            " price (Dense)                  (None, 3)            1839        ['tf.concat_6[0][0]']            \n",
            "                                                                                                  \n",
            " type (Dense)                   (None, 24)           14712       ['tf.concat_6[0][0]']            \n",
            "                                                                                                  \n",
            "==================================================================================================\n",
            "Total params: 18,778,551\n",
            "Trainable params: 4,063,863\n",
            "Non-trainable params: 14,714,688\n",
            "__________________________________________________________________________________________________\n"
          ]
        }
      ],
      "source": [
        "in_text = keras.Input(batch_shape=(None, max_len))\n",
        "in_image = keras.Input(batch_shape=(None, 64, 64, 3)) # input shape for batches of images (size 64x64x2)\n",
        "\n",
        "# text part\n",
        "embedded = keras.layers.Embedding(tokenizer.num_words, 100)(in_text) # get our word embeddings\n",
        "# averaged = tf.reduce_mean(embedded, axis=1) # compute the mean of the embeddings to reduce the rank of the embedding\n",
        "attention = MultiHeadAttention(num_heads=2, key_dim=2)(embedded, embedded)\n",
        "bi_lstm = Bidirectional(GRU(50, recurrent_regularizer='l2'))(attention)\n",
        "\n",
        "\n",
        "# image part\n",
        "scaling = Rescaling(1./127.5, offset=-1)(in_image) # rescaling to [-1,1] for VGG16\n",
        "vgg = base(scaling, training=False) # pass the base model the scaled inputs\n",
        "pl = GlobalAveragePooling2D()(vgg) # global average pooling, pretty much the same as flattening\n",
        "do = Dropout(0.2)(pl) # dropout at a rate of 20%\n",
        "fl = Flatten()(do) # flattening anyways\n",
        "\n",
        "\n",
        "# fusion:\n",
        "fused = tf.concat([bi_lstm, fl], axis=-1) # concatenate text features with images\n",
        "\n",
        "# multi-objectives (each is a multi-class classification)\n",
        "p_price = Dense(len_price, activation='softmax', name='price')(fused) # predict price label 0, 1, or 2\n",
        "p_type = Dense(len_type, activation='softmax', name='type')(fused) # predict rental category label [0-23]\n",
        "\n",
        "# model definition\n",
        "attn_model = keras.Model(\n",
        "    inputs={\n",
        "        'summary': in_text, # text inputs\n",
        "        'image': in_image # image inputs\n",
        "    },\n",
        "    outputs={\n",
        "        'price': p_price, # label 1: price category (0, 1, or 2)\n",
        "        'type': p_type, # label 2: type category [0-23]\n",
        "    },\n",
        ")\n",
        "\n",
        "# compiling the updated attention model and printing the summary\n",
        "compile(attn_model)\n",
        "attn_model.summary()"
      ]
    },
    {
      "cell_type": "code",
      "execution_count": 51,
      "metadata": {
        "colab": {
          "base_uri": "https://localhost:8080/"
        },
        "id": "OfYLIuw3GvV0",
        "outputId": "24942829-44a2-489e-8412-bbb7fac19861"
      },
      "outputs": [
        {
          "name": "stdout",
          "output_type": "stream",
          "text": [
            "Epoch 1/20\n",
            "184/184 [==============================] - 39s 162ms/step - loss: 1.3244 - price_loss: 0.8625 - type_loss: 1.2248 - price_sparse_categorical_accuracy: 0.6041 - type_sparse_categorical_accuracy: 0.6976 - val_loss: 0.9427 - val_price_loss: 0.8255 - val_type_loss: 0.9958 - val_price_sparse_categorical_accuracy: 0.6419 - val_type_sparse_categorical_accuracy: 0.7572\n",
            "Epoch 2/20\n",
            "184/184 [==============================] - 14s 75ms/step - loss: 0.8876 - price_loss: 0.8249 - type_loss: 0.9299 - price_sparse_categorical_accuracy: 0.6160 - type_sparse_categorical_accuracy: 0.7599 - val_loss: 0.8481 - val_price_loss: 0.7858 - val_type_loss: 0.9058 - val_price_sparse_categorical_accuracy: 0.6385 - val_type_sparse_categorical_accuracy: 0.7592\n",
            "Epoch 3/20\n",
            "184/184 [==============================] - 12s 64ms/step - loss: 0.8237 - price_loss: 0.7938 - type_loss: 0.8505 - price_sparse_categorical_accuracy: 0.6234 - type_sparse_categorical_accuracy: 0.7662 - val_loss: 0.8301 - val_price_loss: 0.7672 - val_type_loss: 0.8905 - val_price_sparse_categorical_accuracy: 0.6501 - val_type_sparse_categorical_accuracy: 0.7688\n",
            "Epoch 4/20\n",
            "184/184 [==============================] - 8s 43ms/step - loss: 0.7802 - price_loss: 0.7596 - type_loss: 0.7979 - price_sparse_categorical_accuracy: 0.6428 - type_sparse_categorical_accuracy: 0.7766 - val_loss: 0.8259 - val_price_loss: 0.7529 - val_type_loss: 0.8964 - val_price_sparse_categorical_accuracy: 0.6555 - val_type_sparse_categorical_accuracy: 0.7708\n",
            "Epoch 5/20\n",
            "184/184 [==============================] - 9s 49ms/step - loss: 0.7400 - price_loss: 0.7218 - type_loss: 0.7535 - price_sparse_categorical_accuracy: 0.6621 - type_sparse_categorical_accuracy: 0.7891 - val_loss: 0.8160 - val_price_loss: 0.7447 - val_type_loss: 0.8826 - val_price_sparse_categorical_accuracy: 0.6617 - val_type_sparse_categorical_accuracy: 0.7592\n",
            "Epoch 6/20\n",
            "184/184 [==============================] - 8s 46ms/step - loss: 0.7012 - price_loss: 0.6872 - type_loss: 0.7097 - price_sparse_categorical_accuracy: 0.6875 - type_sparse_categorical_accuracy: 0.7991 - val_loss: 0.8450 - val_price_loss: 0.7835 - val_type_loss: 0.9018 - val_price_sparse_categorical_accuracy: 0.6357 - val_type_sparse_categorical_accuracy: 0.7578\n",
            "Epoch 7/20\n",
            "184/184 [==============================] - 10s 52ms/step - loss: 0.6657 - price_loss: 0.6506 - type_loss: 0.6756 - price_sparse_categorical_accuracy: 0.7143 - type_sparse_categorical_accuracy: 0.8090 - val_loss: 0.8515 - val_price_loss: 0.7683 - val_type_loss: 0.9303 - val_price_sparse_categorical_accuracy: 0.6480 - val_type_sparse_categorical_accuracy: 0.7647\n",
            "Epoch 8/20\n",
            "184/184 [==============================] - 11s 59ms/step - loss: 0.6337 - price_loss: 0.6284 - type_loss: 0.6336 - price_sparse_categorical_accuracy: 0.7329 - type_sparse_categorical_accuracy: 0.8191 - val_loss: 0.8540 - val_price_loss: 0.7623 - val_type_loss: 0.9422 - val_price_sparse_categorical_accuracy: 0.6712 - val_type_sparse_categorical_accuracy: 0.7599\n",
            "Epoch 9/20\n",
            "184/184 [==============================] - 7s 36ms/step - loss: 0.5985 - price_loss: 0.5997 - type_loss: 0.5919 - price_sparse_categorical_accuracy: 0.7379 - type_sparse_categorical_accuracy: 0.8302 - val_loss: 0.8618 - val_price_loss: 0.7763 - val_type_loss: 0.9417 - val_price_sparse_categorical_accuracy: 0.6589 - val_type_sparse_categorical_accuracy: 0.7544\n",
            "Epoch 10/20\n",
            "184/184 [==============================] - 8s 41ms/step - loss: 0.5715 - price_loss: 0.5795 - type_loss: 0.5577 - price_sparse_categorical_accuracy: 0.7538 - type_sparse_categorical_accuracy: 0.8411 - val_loss: 0.8829 - val_price_loss: 0.8165 - val_type_loss: 0.9429 - val_price_sparse_categorical_accuracy: 0.6774 - val_type_sparse_categorical_accuracy: 0.7715\n"
          ]
        }
      ],
      "source": [
        "# history = train(lstm_model, callbacks)\n",
        "history = attn_model.fit(\n",
        "      # our inputs: tokenized text sequences and resized image samples\n",
        "      x={\n",
        "          'summary': x_tr_text,\n",
        "          'image': rgb_tr # can't use my helper function as I have a different image input\n",
        "      },\n",
        "      # our outputs: price and rental type categories\n",
        "      y={\n",
        "          'price': y_tr_price,\n",
        "          'type': y_tr_type,\n",
        "      },\n",
        "      epochs=20, # train for 20 epochs (iterations over all training data)\n",
        "      batch_size=32, # batch size of 16 (samples processed before updating gradients)\n",
        "      # our validation splits for our two input sets and our two target attributes\n",
        "      validation_data=(\n",
        "          {\n",
        "              'summary': x_vl_text,\n",
        "              'image': rgb_vl # can't use my helper function as I have a different validation set\n",
        "          }, \n",
        "          {\n",
        "              'price': y_vl_price,\n",
        "              'type': y_vl_type,\n",
        "          }),\n",
        "      # validation_split=0.2, # validate on a hold-out set of 20%, even though splits were already created above???? This is redundant.\n",
        "      # use early stopping, monitor the validation price loss and if it does not improve for 5 consecutive epochs, training will stop\n",
        "      callbacks=[\n",
        "          tf.keras.callbacks.EarlyStopping(monitor='val_price_loss', patience=5, ) # setting patience back to 5\n",
        "      ],\n",
        "      verbose=1 # one line per epoch displaying performance metrics\n",
        "  )"
      ]
    },
    {
      "cell_type": "code",
      "execution_count": 52,
      "metadata": {
        "colab": {
          "base_uri": "https://localhost:8080/",
          "height": 428
        },
        "id": "3BXSSTOTHNcT",
        "outputId": "5ac19a9a-087e-40a3-f737-07c59de95962"
      },
      "outputs": [
        {
          "data": {
            "image/png": "[encoded data removed]",
            "text/plain": [
              "<Figure size 1200x400 with 3 Axes>"
            ]
          },
          "metadata": {},
          "output_type": "display_data"
        }
      ],
      "source": [
        "visualize(history)"
      ]
    },
    {
      "cell_type": "code",
      "execution_count": 53,
      "metadata": {
        "id": "VxvKB9g1Hu8n"
      },
      "outputs": [],
      "source": [
        "# preprocess the test images the same way as our training and validation sets\n",
        "rgb_test = x_test_image[:,:,:,0]\n",
        "rgb_test = np.repeat(rgb_test[..., np.newaxis], 3, -1) # repeat the same values across 3 channels"
      ]
    },
    {
      "cell_type": "code",
      "execution_count": 54,
      "metadata": {
        "colab": {
          "base_uri": "https://localhost:8080/"
        },
        "id": "NPDSdv12H1h0",
        "outputId": "cc0dfe97-96a7-444b-cd18-f604b72e1d34"
      },
      "outputs": [
        {
          "name": "stdout",
          "output_type": "stream",
          "text": [
            "230/230 [==============================] - 5s 16ms/step\n"
          ]
        }
      ],
      "source": [
        "y_predict = attn_model.predict(\n",
        "    {\n",
        "        'summary': x_test_text,\n",
        "        'image': rgb_test\n",
        "    }\n",
        ")\n",
        "price_predicted = y_predict['price'] \n",
        "price_category_predicted = np.argmax(price_predicted, axis=1) \n",
        "\n",
        "# create the submission dataframe/csv for submission\n",
        "pd.DataFrame(\n",
        "    {'id': df_test.id,\n",
        "    'price': price_category_predicted}).to_csv('bonus_trial.csv', index=False)"
      ]
    },
    {
      "cell_type": "markdown",
      "metadata": {
        "id": "3bKrvCXvI89D"
      },
      "source": [
        "Oservation: 67% on kaggle"
      ]
    },
    {
      "cell_type": "code",
      "execution_count": null,
      "metadata": {
        "id": "CqCDU9cKIQ1z"
      },
      "outputs": [],
      "source": []
    }
  ],
  "metadata": {
    "accelerator": "GPU",
    "colab": {
      "gpuType": "T4",
      "provenance": []
    },
    "gpuClass": "standard",
    "kernelspec": {
      "display_name": "Python 3",
      "name": "python3"
    },
    "language_info": {
      "name": "python"
    },
    "widgets": {
      "application/vnd.jupyter.widget-state+json": {
        "043d9cc25c7a4c72af0a447f1133708a": {
          "model_module": "@jupyter-widgets/controls",
          "model_module_version": "1.5.0",
          "model_name": "FloatProgressModel",
          "state": {
            "_dom_classes": [],
            "_model_module": "@jupyter-widgets/controls",
            "_model_module_version": "1.5.0",
            "_model_name": "FloatProgressModel",
            "_view_count": null,
            "_view_module": "@jupyter-widgets/controls",
            "_view_module_version": "1.5.0",
            "_view_name": "ProgressView",
            "bar_style": "success",
            "description": "",
            "description_tooltip": null,
            "layout": "IPY_MODEL_cfa6dbee3b0b49e1a8536f917d72266b",
            "max": 7360,
            "min": 0,
            "orientation": "horizontal",
            "style": "IPY_MODEL_55f9a45ce3c54ffe8f63f0b9f45398b3",
            "value": 7360
          }
        },
        "228b48364d044e4dbf2d579dff18229b": {
          "model_module": "@jupyter-widgets/controls",
          "model_module_version": "1.5.0",
          "model_name": "HTMLModel",
          "state": {
            "_dom_classes": [],
            "_model_module": "@jupyter-widgets/controls",
            "_model_module_version": "1.5.0",
            "_model_name": "HTMLModel",
            "_view_count": null,
            "_view_module": "@jupyter-widgets/controls",
            "_view_module_version": "1.5.0",
            "_view_name": "HTMLView",
            "description": "",
            "description_tooltip": null,
            "layout": "IPY_MODEL_a7c0b1070cd9433ab613111f43fad55d",
            "placeholder": "​",
            "style": "IPY_MODEL_72159304ca084e489165112ff7936d21",
            "value": "100%"
          }
        },
        "263c6a20888c46cd935cb3bcde01f58b": {
          "model_module": "@jupyter-widgets/controls",
          "model_module_version": "1.5.0",
          "model_name": "HBoxModel",
          "state": {
            "_dom_classes": [],
            "_model_module": "@jupyter-widgets/controls",
            "_model_module_version": "1.5.0",
            "_model_name": "HBoxModel",
            "_view_count": null,
            "_view_module": "@jupyter-widgets/controls",
            "_view_module_version": "1.5.0",
            "_view_name": "HBoxView",
            "box_style": "",
            "children": [
              "IPY_MODEL_a0788136a38d41c98453daca70dc1031",
              "IPY_MODEL_3d65ade963a94695a76bf2028e59eaaa",
              "IPY_MODEL_d33c805afdc6416a8de6641db550d420"
            ],
            "layout": "IPY_MODEL_b827db8f7b8a452cbc858d4241fdf1b1"
          }
        },
        "2d3b8ce5f01647d2a7d148feeb2dfaef": {
          "model_module": "@jupyter-widgets/controls",
          "model_module_version": "1.5.0",
          "model_name": "DescriptionStyleModel",
          "state": {
            "_model_module": "@jupyter-widgets/controls",
            "_model_module_version": "1.5.0",
            "_model_name": "DescriptionStyleModel",
            "_view_count": null,
            "_view_module": "@jupyter-widgets/base",
            "_view_module_version": "1.2.0",
            "_view_name": "StyleView",
            "description_width": ""
          }
        },
        "3c02ba5248fc4852a394b0305f67e851": {
          "model_module": "@jupyter-widgets/controls",
          "model_module_version": "1.5.0",
          "model_name": "DescriptionStyleModel",
          "state": {
            "_model_module": "@jupyter-widgets/controls",
            "_model_module_version": "1.5.0",
            "_model_name": "DescriptionStyleModel",
            "_view_count": null,
            "_view_module": "@jupyter-widgets/base",
            "_view_module_version": "1.2.0",
            "_view_name": "StyleView",
            "description_width": ""
          }
        },
        "3d65ade963a94695a76bf2028e59eaaa": {
          "model_module": "@jupyter-widgets/controls",
          "model_module_version": "1.5.0",
          "model_name": "FloatProgressModel",
          "state": {
            "_dom_classes": [],
            "_model_module": "@jupyter-widgets/controls",
            "_model_module_version": "1.5.0",
            "_model_name": "FloatProgressModel",
            "_view_count": null,
            "_view_module": "@jupyter-widgets/controls",
            "_view_module_version": "1.5.0",
            "_view_name": "ProgressView",
            "bar_style": "success",
            "description": "",
            "description_tooltip": null,
            "layout": "IPY_MODEL_ec9a351a7b044d4c8137582d99734a03",
            "max": 7326,
            "min": 0,
            "orientation": "horizontal",
            "style": "IPY_MODEL_e9c34de2f1e34e3a941e8abfdea87dc8",
            "value": 7326
          }
        },
        "408a11733ea34e03be9d2779c29b9659": {
          "model_module": "@jupyter-widgets/controls",
          "model_module_version": "1.5.0",
          "model_name": "DescriptionStyleModel",
          "state": {
            "_model_module": "@jupyter-widgets/controls",
            "_model_module_version": "1.5.0",
            "_model_name": "DescriptionStyleModel",
            "_view_count": null,
            "_view_module": "@jupyter-widgets/base",
            "_view_module_version": "1.2.0",
            "_view_name": "StyleView",
            "description_width": ""
          }
        },
        "55f9a45ce3c54ffe8f63f0b9f45398b3": {
          "model_module": "@jupyter-widgets/controls",
          "model_module_version": "1.5.0",
          "model_name": "ProgressStyleModel",
          "state": {
            "_model_module": "@jupyter-widgets/controls",
            "_model_module_version": "1.5.0",
            "_model_name": "ProgressStyleModel",
            "_view_count": null,
            "_view_module": "@jupyter-widgets/base",
            "_view_module_version": "1.2.0",
            "_view_name": "StyleView",
            "bar_color": null,
            "description_width": ""
          }
        },
        "72159304ca084e489165112ff7936d21": {
          "model_module": "@jupyter-widgets/controls",
          "model_module_version": "1.5.0",
          "model_name": "DescriptionStyleModel",
          "state": {
            "_model_module": "@jupyter-widgets/controls",
            "_model_module_version": "1.5.0",
            "_model_name": "DescriptionStyleModel",
            "_view_count": null,
            "_view_module": "@jupyter-widgets/base",
            "_view_module_version": "1.2.0",
            "_view_name": "StyleView",
            "description_width": ""
          }
        },
        "928106b57ae84f78b4a6a44e95125db7": {
          "model_module": "@jupyter-widgets/base",
          "model_module_version": "1.2.0",
          "model_name": "LayoutModel",
          "state": {
            "_model_module": "@jupyter-widgets/base",
            "_model_module_version": "1.2.0",
            "_model_name": "LayoutModel",
            "_view_count": null,
            "_view_module": "@jupyter-widgets/base",
            "_view_module_version": "1.2.0",
            "_view_name": "LayoutView",
            "align_content": null,
            "align_items": null,
            "align_self": null,
            "border": null,
            "bottom": null,
            "display": null,
            "flex": null,
            "flex_flow": null,
            "grid_area": null,
            "grid_auto_columns": null,
            "grid_auto_flow": null,
            "grid_auto_rows": null,
            "grid_column": null,
            "grid_gap": null,
            "grid_row": null,
            "grid_template_areas": null,
            "grid_template_columns": null,
            "grid_template_rows": null,
            "height": null,
            "justify_content": null,
            "justify_items": null,
            "left": null,
            "margin": null,
            "max_height": null,
            "max_width": null,
            "min_height": null,
            "min_width": null,
            "object_fit": null,
            "object_position": null,
            "order": null,
            "overflow": null,
            "overflow_x": null,
            "overflow_y": null,
            "padding": null,
            "right": null,
            "top": null,
            "visibility": null,
            "width": null
          }
        },
        "a0788136a38d41c98453daca70dc1031": {
          "model_module": "@jupyter-widgets/controls",
          "model_module_version": "1.5.0",
          "model_name": "HTMLModel",
          "state": {
            "_dom_classes": [],
            "_model_module": "@jupyter-widgets/controls",
            "_model_module_version": "1.5.0",
            "_model_name": "HTMLModel",
            "_view_count": null,
            "_view_module": "@jupyter-widgets/controls",
            "_view_module_version": "1.5.0",
            "_view_name": "HTMLView",
            "description": "",
            "description_tooltip": null,
            "layout": "IPY_MODEL_c59d15bbcf6043e4b4155c06788ec536",
            "placeholder": "​",
            "style": "IPY_MODEL_408a11733ea34e03be9d2779c29b9659",
            "value": "100%"
          }
        },
        "a7c0b1070cd9433ab613111f43fad55d": {
          "model_module": "@jupyter-widgets/base",
          "model_module_version": "1.2.0",
          "model_name": "LayoutModel",
          "state": {
            "_model_module": "@jupyter-widgets/base",
            "_model_module_version": "1.2.0",
            "_model_name": "LayoutModel",
            "_view_count": null,
            "_view_module": "@jupyter-widgets/base",
            "_view_module_version": "1.2.0",
            "_view_name": "LayoutView",
            "align_content": null,
            "align_items": null,
            "align_self": null,
            "border": null,
            "bottom": null,
            "display": null,
            "flex": null,
            "flex_flow": null,
            "grid_area": null,
            "grid_auto_columns": null,
            "grid_auto_flow": null,
            "grid_auto_rows": null,
            "grid_column": null,
            "grid_gap": null,
            "grid_row": null,
            "grid_template_areas": null,
            "grid_template_columns": null,
            "grid_template_rows": null,
            "height": null,
            "justify_content": null,
            "justify_items": null,
            "left": null,
            "margin": null,
            "max_height": null,
            "max_width": null,
            "min_height": null,
            "min_width": null,
            "object_fit": null,
            "object_position": null,
            "order": null,
            "overflow": null,
            "overflow_x": null,
            "overflow_y": null,
            "padding": null,
            "right": null,
            "top": null,
            "visibility": null,
            "width": null
          }
        },
        "aabe34a0a7454b80903d550e008dd821": {
          "model_module": "@jupyter-widgets/controls",
          "model_module_version": "1.5.0",
          "model_name": "HTMLModel",
          "state": {
            "_dom_classes": [],
            "_model_module": "@jupyter-widgets/controls",
            "_model_module_version": "1.5.0",
            "_model_name": "HTMLModel",
            "_view_count": null,
            "_view_module": "@jupyter-widgets/controls",
            "_view_module_version": "1.5.0",
            "_view_name": "HTMLView",
            "description": "",
            "description_tooltip": null,
            "layout": "IPY_MODEL_ac50d7e5edfc4a1e90e1857b2b9c1ec5",
            "placeholder": "​",
            "style": "IPY_MODEL_2d3b8ce5f01647d2a7d148feeb2dfaef",
            "value": " 7360/7360 [00:00&lt;00:00, 28148.80it/s]"
          }
        },
        "ac50d7e5edfc4a1e90e1857b2b9c1ec5": {
          "model_module": "@jupyter-widgets/base",
          "model_module_version": "1.2.0",
          "model_name": "LayoutModel",
          "state": {
            "_model_module": "@jupyter-widgets/base",
            "_model_module_version": "1.2.0",
            "_model_name": "LayoutModel",
            "_view_count": null,
            "_view_module": "@jupyter-widgets/base",
            "_view_module_version": "1.2.0",
            "_view_name": "LayoutView",
            "align_content": null,
            "align_items": null,
            "align_self": null,
            "border": null,
            "bottom": null,
            "display": null,
            "flex": null,
            "flex_flow": null,
            "grid_area": null,
            "grid_auto_columns": null,
            "grid_auto_flow": null,
            "grid_auto_rows": null,
            "grid_column": null,
            "grid_gap": null,
            "grid_row": null,
            "grid_template_areas": null,
            "grid_template_columns": null,
            "grid_template_rows": null,
            "height": null,
            "justify_content": null,
            "justify_items": null,
            "left": null,
            "margin": null,
            "max_height": null,
            "max_width": null,
            "min_height": null,
            "min_width": null,
            "object_fit": null,
            "object_position": null,
            "order": null,
            "overflow": null,
            "overflow_x": null,
            "overflow_y": null,
            "padding": null,
            "right": null,
            "top": null,
            "visibility": null,
            "width": null
          }
        },
        "b827db8f7b8a452cbc858d4241fdf1b1": {
          "model_module": "@jupyter-widgets/base",
          "model_module_version": "1.2.0",
          "model_name": "LayoutModel",
          "state": {
            "_model_module": "@jupyter-widgets/base",
            "_model_module_version": "1.2.0",
            "_model_name": "LayoutModel",
            "_view_count": null,
            "_view_module": "@jupyter-widgets/base",
            "_view_module_version": "1.2.0",
            "_view_name": "LayoutView",
            "align_content": null,
            "align_items": null,
            "align_self": null,
            "border": null,
            "bottom": null,
            "display": null,
            "flex": null,
            "flex_flow": null,
            "grid_area": null,
            "grid_auto_columns": null,
            "grid_auto_flow": null,
            "grid_auto_rows": null,
            "grid_column": null,
            "grid_gap": null,
            "grid_row": null,
            "grid_template_areas": null,
            "grid_template_columns": null,
            "grid_template_rows": null,
            "height": null,
            "justify_content": null,
            "justify_items": null,
            "left": null,
            "margin": null,
            "max_height": null,
            "max_width": null,
            "min_height": null,
            "min_width": null,
            "object_fit": null,
            "object_position": null,
            "order": null,
            "overflow": null,
            "overflow_x": null,
            "overflow_y": null,
            "padding": null,
            "right": null,
            "top": null,
            "visibility": null,
            "width": null
          }
        },
        "c59d15bbcf6043e4b4155c06788ec536": {
          "model_module": "@jupyter-widgets/base",
          "model_module_version": "1.2.0",
          "model_name": "LayoutModel",
          "state": {
            "_model_module": "@jupyter-widgets/base",
            "_model_module_version": "1.2.0",
            "_model_name": "LayoutModel",
            "_view_count": null,
            "_view_module": "@jupyter-widgets/base",
            "_view_module_version": "1.2.0",
            "_view_name": "LayoutView",
            "align_content": null,
            "align_items": null,
            "align_self": null,
            "border": null,
            "bottom": null,
            "display": null,
            "flex": null,
            "flex_flow": null,
            "grid_area": null,
            "grid_auto_columns": null,
            "grid_auto_flow": null,
            "grid_auto_rows": null,
            "grid_column": null,
            "grid_gap": null,
            "grid_row": null,
            "grid_template_areas": null,
            "grid_template_columns": null,
            "grid_template_rows": null,
            "height": null,
            "justify_content": null,
            "justify_items": null,
            "left": null,
            "margin": null,
            "max_height": null,
            "max_width": null,
            "min_height": null,
            "min_width": null,
            "object_fit": null,
            "object_position": null,
            "order": null,
            "overflow": null,
            "overflow_x": null,
            "overflow_y": null,
            "padding": null,
            "right": null,
            "top": null,
            "visibility": null,
            "width": null
          }
        },
        "cfa6dbee3b0b49e1a8536f917d72266b": {
          "model_module": "@jupyter-widgets/base",
          "model_module_version": "1.2.0",
          "model_name": "LayoutModel",
          "state": {
            "_model_module": "@jupyter-widgets/base",
            "_model_module_version": "1.2.0",
            "_model_name": "LayoutModel",
            "_view_count": null,
            "_view_module": "@jupyter-widgets/base",
            "_view_module_version": "1.2.0",
            "_view_name": "LayoutView",
            "align_content": null,
            "align_items": null,
            "align_self": null,
            "border": null,
            "bottom": null,
            "display": null,
            "flex": null,
            "flex_flow": null,
            "grid_area": null,
            "grid_auto_columns": null,
            "grid_auto_flow": null,
            "grid_auto_rows": null,
            "grid_column": null,
            "grid_gap": null,
            "grid_row": null,
            "grid_template_areas": null,
            "grid_template_columns": null,
            "grid_template_rows": null,
            "height": null,
            "justify_content": null,
            "justify_items": null,
            "left": null,
            "margin": null,
            "max_height": null,
            "max_width": null,
            "min_height": null,
            "min_width": null,
            "object_fit": null,
            "object_position": null,
            "order": null,
            "overflow": null,
            "overflow_x": null,
            "overflow_y": null,
            "padding": null,
            "right": null,
            "top": null,
            "visibility": null,
            "width": null
          }
        },
        "d271b761e2ae49d48282d17ef8bf3489": {
          "model_module": "@jupyter-widgets/controls",
          "model_module_version": "1.5.0",
          "model_name": "HBoxModel",
          "state": {
            "_dom_classes": [],
            "_model_module": "@jupyter-widgets/controls",
            "_model_module_version": "1.5.0",
            "_model_name": "HBoxModel",
            "_view_count": null,
            "_view_module": "@jupyter-widgets/controls",
            "_view_module_version": "1.5.0",
            "_view_name": "HBoxView",
            "box_style": "",
            "children": [
              "IPY_MODEL_228b48364d044e4dbf2d579dff18229b",
              "IPY_MODEL_043d9cc25c7a4c72af0a447f1133708a",
              "IPY_MODEL_aabe34a0a7454b80903d550e008dd821"
            ],
            "layout": "IPY_MODEL_928106b57ae84f78b4a6a44e95125db7"
          }
        },
        "d33c805afdc6416a8de6641db550d420": {
          "model_module": "@jupyter-widgets/controls",
          "model_module_version": "1.5.0",
          "model_name": "HTMLModel",
          "state": {
            "_dom_classes": [],
            "_model_module": "@jupyter-widgets/controls",
            "_model_module_version": "1.5.0",
            "_model_name": "HTMLModel",
            "_view_count": null,
            "_view_module": "@jupyter-widgets/controls",
            "_view_module_version": "1.5.0",
            "_view_name": "HTMLView",
            "description": "",
            "description_tooltip": null,
            "layout": "IPY_MODEL_f3c21774786646ada15adde6010373e9",
            "placeholder": "​",
            "style": "IPY_MODEL_3c02ba5248fc4852a394b0305f67e851",
            "value": " 7326/7326 [00:00&lt;00:00, 29511.59it/s]"
          }
        },
        "e9c34de2f1e34e3a941e8abfdea87dc8": {
          "model_module": "@jupyter-widgets/controls",
          "model_module_version": "1.5.0",
          "model_name": "ProgressStyleModel",
          "state": {
            "_model_module": "@jupyter-widgets/controls",
            "_model_module_version": "1.5.0",
            "_model_name": "ProgressStyleModel",
            "_view_count": null,
            "_view_module": "@jupyter-widgets/base",
            "_view_module_version": "1.2.0",
            "_view_name": "StyleView",
            "bar_color": null,
            "description_width": ""
          }
        },
        "ec9a351a7b044d4c8137582d99734a03": {
          "model_module": "@jupyter-widgets/base",
          "model_module_version": "1.2.0",
          "model_name": "LayoutModel",
          "state": {
            "_model_module": "@jupyter-widgets/base",
            "_model_module_version": "1.2.0",
            "_model_name": "LayoutModel",
            "_view_count": null,
            "_view_module": "@jupyter-widgets/base",
            "_view_module_version": "1.2.0",
            "_view_name": "LayoutView",
            "align_content": null,
            "align_items": null,
            "align_self": null,
            "border": null,
            "bottom": null,
            "display": null,
            "flex": null,
            "flex_flow": null,
            "grid_area": null,
            "grid_auto_columns": null,
            "grid_auto_flow": null,
            "grid_auto_rows": null,
            "grid_column": null,
            "grid_gap": null,
            "grid_row": null,
            "grid_template_areas": null,
            "grid_template_columns": null,
            "grid_template_rows": null,
            "height": null,
            "justify_content": null,
            "justify_items": null,
            "left": null,
            "margin": null,
            "max_height": null,
            "max_width": null,
            "min_height": null,
            "min_width": null,
            "object_fit": null,
            "object_position": null,
            "order": null,
            "overflow": null,
            "overflow_x": null,
            "overflow_y": null,
            "padding": null,
            "right": null,
            "top": null,
            "visibility": null,
            "width": null
          }
        },
        "f3c21774786646ada15adde6010373e9": {
          "model_module": "@jupyter-widgets/base",
          "model_module_version": "1.2.0",
          "model_name": "LayoutModel",
          "state": {
            "_model_module": "@jupyter-widgets/base",
            "_model_module_version": "1.2.0",
            "_model_name": "LayoutModel",
            "_view_count": null,
            "_view_module": "@jupyter-widgets/base",
            "_view_module_version": "1.2.0",
            "_view_name": "LayoutView",
            "align_content": null,
            "align_items": null,
            "align_self": null,
            "border": null,
            "bottom": null,
            "display": null,
            "flex": null,
            "flex_flow": null,
            "grid_area": null,
            "grid_auto_columns": null,
            "grid_auto_flow": null,
            "grid_auto_rows": null,
            "grid_column": null,
            "grid_gap": null,
            "grid_row": null,
            "grid_template_areas": null,
            "grid_template_columns": null,
            "grid_template_rows": null,
            "height": null,
            "justify_content": null,
            "justify_items": null,
            "left": null,
            "margin": null,
            "max_height": null,
            "max_width": null,
            "min_height": null,
            "min_width": null,
            "object_fit": null,
            "object_position": null,
            "order": null,
            "overflow": null,
            "overflow_x": null,
            "overflow_y": null,
            "padding": null,
            "right": null,
            "top": null,
            "visibility": null,
            "width": null
          }
        }
      }
    }
  },
  "nbformat": 4,
  "nbformat_minor": 0
}
